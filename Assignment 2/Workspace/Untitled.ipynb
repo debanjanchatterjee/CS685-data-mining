{
 "cells": [
  {
   "cell_type": "code",
   "execution_count": 1,
   "metadata": {},
   "outputs": [],
   "source": [
    "import pandas as pd\n",
    "from urllib.parse import unquote\n",
    "import csv"
   ]
  },
  {
   "cell_type": "code",
   "execution_count": 2,
   "metadata": {},
   "outputs": [],
   "source": [
    "finpathsTSV='paths_finished.tsv'\n",
    "finpathdf = pd.read_csv(finpathsTSV, sep='\\t',names=[\"hashedip\",\"timestamp\",\"durationinsec\",\"path\",\"rating\"])"
   ]
  },
  {
   "cell_type": "code",
   "execution_count": 3,
   "metadata": {},
   "outputs": [
    {
     "name": "stdout",
     "output_type": "stream",
     "text": [
      "                                                hashedip     timestamp  \\\n",
      "0       # Successful (i.e., finished) Wikispeedia paths.           NaN   \n",
      "1      # Article names are URL-encoded; e.g., in Java...           NaN   \n",
      "2             # Articles in a path are separated by \";\".           NaN   \n",
      "3                  # Back clicks are represented as \"<\".           NaN   \n",
      "4      # Ratings are optionally given by the user aft...           NaN   \n",
      "...                                                  ...           ...   \n",
      "51328                                   15a13a1d66ef5456  1.349231e+09   \n",
      "51329                                   2ef7ac844cefda58  1.300254e+09   \n",
      "51330                                   12863abb7887f890  1.385095e+09   \n",
      "51331                                   19f8284371753362  1.298793e+09   \n",
      "51332                                   24b84602179de377  1.318123e+09   \n",
      "\n",
      "       durationinsec                                               path  \\\n",
      "0                NaN                                                NaN   \n",
      "1                NaN                                                NaN   \n",
      "2                NaN                                                NaN   \n",
      "3                NaN                                                NaN   \n",
      "4                NaN                                                NaN   \n",
      "...              ...                                                ...   \n",
      "51328           66.0                   Yagan;Ancient_Egypt;Civilization   \n",
      "51329          165.0  Yagan;Folklore;Brothers_Grimm;<;19th_century;C...   \n",
      "51330          228.0  Yagan;Australia;England;France;United_States;T...   \n",
      "51331           56.0  Yarralumla%2C_Australian_Capital_Territory;Aus...   \n",
      "51332           30.0                            Ziad_Jarrah;Germany;Jew   \n",
      "\n",
      "       rating  \n",
      "0         NaN  \n",
      "1         NaN  \n",
      "2         NaN  \n",
      "3         NaN  \n",
      "4         NaN  \n",
      "...       ...  \n",
      "51328     NaN  \n",
      "51329     3.0  \n",
      "51330     NaN  \n",
      "51331     1.0  \n",
      "51332     NaN  \n",
      "\n",
      "[51333 rows x 5 columns]\n"
     ]
    }
   ],
   "source": [
    "print(finpathdf)"
   ]
  },
  {
   "cell_type": "code",
   "execution_count": null,
   "metadata": {},
   "outputs": [],
   "source": []
  }
 ],
 "metadata": {
  "kernelspec": {
   "display_name": "Python 3.7 (tensorflow)",
   "language": "python",
   "name": "tensorflow"
  },
  "language_info": {
   "codemirror_mode": {
    "name": "ipython",
    "version": 3
   },
   "file_extension": ".py",
   "mimetype": "text/x-python",
   "name": "python",
   "nbconvert_exporter": "python",
   "pygments_lexer": "ipython3",
   "version": "3.7.9"
  }
 },
 "nbformat": 4,
 "nbformat_minor": 4
}
