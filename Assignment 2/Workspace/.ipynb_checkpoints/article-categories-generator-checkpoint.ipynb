{
 "cells": [
  {
   "cell_type": "code",
   "execution_count": 1,
   "metadata": {},
   "outputs": [],
   "source": [
    "import csv\n"
   ]
  },
  {
   "cell_type": "code",
   "execution_count": 2,
   "metadata": {},
   "outputs": [],
   "source": [
    "with open('categories.tsv', newline='') as f:\n",
    "    reader = csv.reader(f)\n",
    "    categories = list(reader)\n",
    "f.close()\n",
    "\n",
    "categories=categories[13:]\n",
    "print(categories)"
   ]
  },
  {
   "cell_type": "code",
   "execution_count": 3,
   "metadata": {},
   "outputs": [],
   "source": [
    "with open('article-ids.csv', newline='') as f:\n",
    "    reader = csv.reader(f)\n",
    "    article_list = list(reader)\n",
    "f.close()"
   ]
  },
  {
   "cell_type": "code",
   "execution_count": 4,
   "metadata": {},
   "outputs": [],
   "source": [
    "with open('category-ids.csv', newline='') as f:\n",
    "    reader = csv.reader(f)\n",
    "    category_list = list(reader)\n",
    "f.close()"
   ]
  },
  {
   "cell_type": "code",
   "execution_count": 5,
   "metadata": {},
   "outputs": [
    {
     "name": "stdout",
     "output_type": "stream",
     "text": [
      "5204\n"
     ]
    }
   ],
   "source": [
    "\n",
    "cat_mod=list()\n",
    "\n",
    "for x in categories:\n",
    "    e=list()\n",
    "    t=x[0]\n",
    "    i=t.find('subject')\n",
    "    s=t[i:]\n",
    "    s0=t[:i].strip()\n",
    "    e.append(s0)\n",
    "    e.append(s)\n",
    "    cat_mod.append(e)\n",
    " \n",
    "\n",
    "print(len(cat_mod))\n",
    "#print(cat_mod)"
   ]
  },
  {
   "cell_type": "code",
   "execution_count": 6,
   "metadata": {},
   "outputs": [],
   "source": [
    "\n",
    "\n",
    "result=list()\n",
    "m=dict()\n",
    "\n",
    "for i in category_list:\n",
    "    m[i[0]]=i[1]\n",
    "for a in article_list:\n",
    "    entry=list()\n",
    "    a_name=a[0]\n",
    "    entry.append(a[1])\n",
    "    \n",
    "    for x in cat_mod:\n",
    "        #print(x[0])\n",
    "        #print(a_name)\n",
    "        \n",
    "        if x[0]==a_name:\n",
    "           entry.append(m[x[1]])\n",
    "    result.append(entry)\n",
    "      \n",
    "\n",
    "\n",
    "    "
   ]
  },
  {
   "cell_type": "code",
   "execution_count": 7,
   "metadata": {},
   "outputs": [],
   "source": [
    "file = open('article-categories.csv', 'w+', newline ='') \n",
    "with file:     \n",
    "    write = csv.writer(file) \n",
    "    write.writerows(result) \n",
    "file.close()"
   ]
  },
  {
   "cell_type": "code",
   "execution_count": null,
   "metadata": {},
   "outputs": [],
   "source": []
  }
 ],
 "metadata": {
  "kernelspec": {
   "display_name": "Python 3.7 (tensorflow)",
   "language": "python",
   "name": "tensorflow"
  },
  "language_info": {
   "codemirror_mode": {
    "name": "ipython",
    "version": 3
   },
   "file_extension": ".py",
   "mimetype": "text/x-python",
   "name": "python",
   "nbconvert_exporter": "python",
   "pygments_lexer": "ipython3",
   "version": "3.7.9"
  }
 },
 "nbformat": 4,
 "nbformat_minor": 4
}
