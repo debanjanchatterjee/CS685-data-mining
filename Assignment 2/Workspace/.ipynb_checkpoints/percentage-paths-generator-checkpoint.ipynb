{
 "cells": [
  {
   "cell_type": "code",
   "execution_count": 1,
   "metadata": {},
   "outputs": [],
   "source": [
    "import csv"
   ]
  },
  {
   "cell_type": "code",
   "execution_count": 2,
   "metadata": {},
   "outputs": [],
   "source": [
    "with open('finished-paths-no-back.csv', newline='') as f:\n",
    "    reader = csv.reader(f)\n",
    "    fpnb = list(reader)\n",
    "f.close()\n"
   ]
  },
  {
   "cell_type": "code",
   "execution_count": 3,
   "metadata": {},
   "outputs": [],
   "source": [
    "with open('finished-paths-back.csv', newline='') as f:\n",
    "    reader = csv.reader(f)\n",
    "    fpb = list(reader)\n",
    "f.close()\n"
   ]
  },
  {
   "cell_type": "code",
   "execution_count": 4,
   "metadata": {},
   "outputs": [
    {
     "name": "stdout",
     "output_type": "stream",
     "text": [
      "51306\n",
      "[[22.37165243831131, 27.988929170077572, 20.032744708221262, 12.129185670291974, 6.981639574318793, 3.816317779596928, 2.2492496004365963, 1.323431957275952, 0.8537013214828675, 0.584726932522512, 0.44244337894203406, 1.2259774685222002]]\n"
     ]
    }
   ],
   "source": [
    "\n",
    "\n",
    "result1=list()\n",
    "for i in range(1,13):\n",
    "    result1.append(0)\n",
    "    \n",
    "    \n",
    "total1=0\n",
    "\n",
    "for i in fpnb:\n",
    "    diff=int(i[0])-int(i[1])\n",
    "    if diff>10:\n",
    "        result1[11]=result1[11]+1\n",
    "    else:\n",
    "        result1[diff]=result1[diff]+1\n",
    "    total1=total1+1\n",
    "    \n",
    "print(total1)    \n",
    "for i in range(0,12):\n",
    "    result1[i]=(result1[i]*100)/total1\n",
    "    \n",
    "    \n",
    "result1=[result1]\n",
    "print(result1)"
   ]
  },
  {
   "cell_type": "code",
   "execution_count": 5,
   "metadata": {},
   "outputs": [],
   "source": [
    "file = open('percentage-paths-no-back.csv', 'w+', newline ='') \n",
    "with file:     \n",
    "    write = csv.writer(file) \n",
    "    write.writerows(result1) \n",
    "file.close()"
   ]
  },
  {
   "cell_type": "code",
   "execution_count": 6,
   "metadata": {},
   "outputs": [
    {
     "name": "stdout",
     "output_type": "stream",
     "text": [
      "51306\n",
      "[[19.968424745643784, 23.778895255915486, 17.84001871126184, 12.004443924687171, 7.930846294780338, 5.0890734027209295, 3.4284489143569954, 2.3720422562663237, 1.6313881417378084, 1.1908938525708495, 0.8946322067594433, 3.8708922932990295]]\n"
     ]
    }
   ],
   "source": [
    "result2=list()\n",
    "for i in range(1,13):\n",
    "    result2.append(0)\n",
    "    \n",
    "    \n",
    "total2=0    \n",
    "\n",
    "for i in fpb:\n",
    "    diff=int(i[0])-int(i[1])\n",
    "    if diff>10:\n",
    "        result2[11]=result2[11]+1\n",
    "    else:\n",
    "        result2[diff]=result2[diff]+1\n",
    "    total2=total2+1\n",
    "    \n",
    "print(total2)    \n",
    "for i in range(0,12):\n",
    "    result2[i]=(result2[i]*100)/total2\n",
    "\n",
    "result2=[result2]\n",
    "print(result2)"
   ]
  },
  {
   "cell_type": "code",
   "execution_count": 7,
   "metadata": {},
   "outputs": [],
   "source": [
    "file = open('percentage-paths-back.csv', 'w+', newline ='') \n",
    "with file:     \n",
    "    write = csv.writer(file) \n",
    "    write.writerows(result2) \n",
    "file.close()"
   ]
  },
  {
   "cell_type": "code",
   "execution_count": null,
   "metadata": {},
   "outputs": [],
   "source": []
  }
 ],
 "metadata": {
  "kernelspec": {
   "display_name": "Python 3.7 (tensorflow)",
   "language": "python",
   "name": "tensorflow"
  },
  "language_info": {
   "codemirror_mode": {
    "name": "ipython",
    "version": 3
   },
   "file_extension": ".py",
   "mimetype": "text/x-python",
   "name": "python",
   "nbconvert_exporter": "python",
   "pygments_lexer": "ipython3",
   "version": "3.7.9"
  }
 },
 "nbformat": 4,
 "nbformat_minor": 4
}
