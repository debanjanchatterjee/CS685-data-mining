{
 "cells": [
  {
   "cell_type": "code",
   "execution_count": 1,
   "metadata": {},
   "outputs": [],
   "source": [
    "import  csv"
   ]
  },
  {
   "cell_type": "code",
   "execution_count": 2,
   "metadata": {},
   "outputs": [],
   "source": [
    "with open('articles.tsv', newline='') as f:\n",
    "    reader = csv.reader(f)\n",
    "    articles = list(reader)\n",
    "f.close()"
   ]
  },
  {
   "cell_type": "code",
   "execution_count": 3,
   "metadata": {},
   "outputs": [],
   "source": [
    "#print(len(articles))\n",
    "#print(articles)"
   ]
  },
  {
   "cell_type": "code",
   "execution_count": 4,
   "metadata": {},
   "outputs": [
    {
     "name": "stdout",
     "output_type": "stream",
     "text": [
      "4604\n"
     ]
    }
   ],
   "source": [
    "articles= articles[12:]\n",
    "print(len(articles))\n",
    "#print(articles)\n",
    "\n",
    "count=1\n",
    "article_list=list()\n",
    "\n",
    "for x in articles:\n",
    "    id=str(count)\n",
    "    id=id.zfill(4)\n",
    "    count=count+1\n",
    "    id='A'+id\n",
    "    entry=[x[0],id]\n",
    "    article_list.append(entry)\n",
    "    \n",
    "\n",
    "#print(article_list) \n",
    "    \n",
    "\n",
    "\n"
   ]
  },
  {
   "cell_type": "code",
   "execution_count": 5,
   "metadata": {},
   "outputs": [],
   "source": [
    "file = open('article-ids.csv', 'w+', newline ='') \n",
    "with file:     \n",
    "    write = csv.writer(file) \n",
    "    write.writerows(article_list) \n",
    "file.close()"
   ]
  },
  {
   "cell_type": "code",
   "execution_count": null,
   "metadata": {},
   "outputs": [],
   "source": []
  }
 ],
 "metadata": {
  "kernelspec": {
   "display_name": "Python 3.7 (tensorflow)",
   "language": "python",
   "name": "tensorflow"
  },
  "language_info": {
   "codemirror_mode": {
    "name": "ipython",
    "version": 3
   },
   "file_extension": ".py",
   "mimetype": "text/x-python",
   "name": "python",
   "nbconvert_exporter": "python",
   "pygments_lexer": "ipython3",
   "version": "3.7.9"
  }
 },
 "nbformat": 4,
 "nbformat_minor": 4
}
