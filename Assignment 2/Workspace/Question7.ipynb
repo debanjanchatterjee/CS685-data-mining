{
 "cells": [
  {
   "cell_type": "code",
   "execution_count": 12,
   "metadata": {},
   "outputs": [],
   "source": [
    "import pandas as pd\n",
    "from urllib.parse import unquote\n",
    "import csv"
   ]
  },
  {
   "cell_type": "code",
   "execution_count": 13,
   "metadata": {},
   "outputs": [],
   "source": [
    "fpwb=pd.read_csv(\"finished-paths-back.csv\")\n"
   ]
  },
  {
   "cell_type": "code",
   "execution_count": 14,
   "metadata": {},
   "outputs": [],
   "source": [
    "path=fpwb[\"path\"].values.tolist()\n",
    "humanlength=fpwb[\"humanlength\"].values.tolist()\n",
    "shortestpath=fpwb[\"shortestpath\"].values.tolist()"
   ]
  },
  {
   "cell_type": "code",
   "execution_count": 15,
   "metadata": {},
   "outputs": [
    {
     "data": {
      "text/html": [
       "<div>\n",
       "<style scoped>\n",
       "    .dataframe tbody tr th:only-of-type {\n",
       "        vertical-align: middle;\n",
       "    }\n",
       "\n",
       "    .dataframe tbody tr th {\n",
       "        vertical-align: top;\n",
       "    }\n",
       "\n",
       "    .dataframe thead th {\n",
       "        text-align: right;\n",
       "    }\n",
       "</style>\n",
       "<table border=\"1\" class=\"dataframe\">\n",
       "  <thead>\n",
       "    <tr style=\"text-align: right;\">\n",
       "      <th></th>\n",
       "      <th>path</th>\n",
       "      <th>humanlength</th>\n",
       "      <th>shortestpath</th>\n",
       "      <th>hl/spratio</th>\n",
       "    </tr>\n",
       "  </thead>\n",
       "  <tbody>\n",
       "    <tr>\n",
       "      <th>0</th>\n",
       "      <td>14th_century;15th_century;16th_century;Pacific...</td>\n",
       "      <td>8</td>\n",
       "      <td>3</td>\n",
       "      <td>2.67</td>\n",
       "    </tr>\n",
       "    <tr>\n",
       "      <th>1</th>\n",
       "      <td>14th_century;Europe;Africa;Atlantic_slave_trad...</td>\n",
       "      <td>4</td>\n",
       "      <td>3</td>\n",
       "      <td>1.33</td>\n",
       "    </tr>\n",
       "    <tr>\n",
       "      <th>2</th>\n",
       "      <td>14th_century;Niger;Nigeria;British_Empire;Slav...</td>\n",
       "      <td>7</td>\n",
       "      <td>3</td>\n",
       "      <td>2.33</td>\n",
       "    </tr>\n",
       "    <tr>\n",
       "      <th>3</th>\n",
       "      <td>14th_century;Renaissance;Ancient_Greece;Greece</td>\n",
       "      <td>3</td>\n",
       "      <td>2</td>\n",
       "      <td>1.50</td>\n",
       "    </tr>\n",
       "    <tr>\n",
       "      <th>4</th>\n",
       "      <td>14th_century;Italy;Roman_Catholic_Church;HIV;R...</td>\n",
       "      <td>6</td>\n",
       "      <td>3</td>\n",
       "      <td>2.00</td>\n",
       "    </tr>\n",
       "    <tr>\n",
       "      <th>...</th>\n",
       "      <td>...</td>\n",
       "      <td>...</td>\n",
       "      <td>...</td>\n",
       "      <td>...</td>\n",
       "    </tr>\n",
       "    <tr>\n",
       "      <th>51313</th>\n",
       "      <td>Yagan;Ancient_Egypt;Civilization</td>\n",
       "      <td>2</td>\n",
       "      <td>2</td>\n",
       "      <td>1.00</td>\n",
       "    </tr>\n",
       "    <tr>\n",
       "      <th>51314</th>\n",
       "      <td>Yagan;Folklore;Brothers_Grimm;&lt;;19th_century;C...</td>\n",
       "      <td>8</td>\n",
       "      <td>3</td>\n",
       "      <td>2.67</td>\n",
       "    </tr>\n",
       "    <tr>\n",
       "      <th>51315</th>\n",
       "      <td>Yagan;Australia;England;France;United_States;T...</td>\n",
       "      <td>6</td>\n",
       "      <td>3</td>\n",
       "      <td>2.00</td>\n",
       "    </tr>\n",
       "    <tr>\n",
       "      <th>51316</th>\n",
       "      <td>Yarralumla%2C_Australian_Capital_Territory;Aus...</td>\n",
       "      <td>3</td>\n",
       "      <td>2</td>\n",
       "      <td>1.50</td>\n",
       "    </tr>\n",
       "    <tr>\n",
       "      <th>51317</th>\n",
       "      <td>Ziad_Jarrah;Germany;Jew</td>\n",
       "      <td>2</td>\n",
       "      <td>2</td>\n",
       "      <td>1.00</td>\n",
       "    </tr>\n",
       "  </tbody>\n",
       "</table>\n",
       "<p>51318 rows × 4 columns</p>\n",
       "</div>"
      ],
      "text/plain": [
       "                                                    path  humanlength  \\\n",
       "0      14th_century;15th_century;16th_century;Pacific...            8   \n",
       "1      14th_century;Europe;Africa;Atlantic_slave_trad...            4   \n",
       "2      14th_century;Niger;Nigeria;British_Empire;Slav...            7   \n",
       "3         14th_century;Renaissance;Ancient_Greece;Greece            3   \n",
       "4      14th_century;Italy;Roman_Catholic_Church;HIV;R...            6   \n",
       "...                                                  ...          ...   \n",
       "51313                   Yagan;Ancient_Egypt;Civilization            2   \n",
       "51314  Yagan;Folklore;Brothers_Grimm;<;19th_century;C...            8   \n",
       "51315  Yagan;Australia;England;France;United_States;T...            6   \n",
       "51316  Yarralumla%2C_Australian_Capital_Territory;Aus...            3   \n",
       "51317                            Ziad_Jarrah;Germany;Jew            2   \n",
       "\n",
       "       shortestpath  hl/spratio  \n",
       "0                 3        2.67  \n",
       "1                 3        1.33  \n",
       "2                 3        2.33  \n",
       "3                 2        1.50  \n",
       "4                 3        2.00  \n",
       "...             ...         ...  \n",
       "51313             2        1.00  \n",
       "51314             3        2.67  \n",
       "51315             3        2.00  \n",
       "51316             2        1.50  \n",
       "51317             2        1.00  \n",
       "\n",
       "[51318 rows x 4 columns]"
      ]
     },
     "execution_count": 15,
     "metadata": {},
     "output_type": "execute_result"
    }
   ],
   "source": [
    "fpwb"
   ]
  },
  {
   "cell_type": "markdown",
   "metadata": {},
   "source": [
    "# to be completed on 31 morning"
   ]
  },
  {
   "cell_type": "code",
   "execution_count": 16,
   "metadata": {},
   "outputs": [],
   "source": [
    "lenpath=len(path)"
   ]
  },
  {
   "cell_type": "code",
   "execution_count": 17,
   "metadata": {},
   "outputs": [
    {
     "data": {
      "text/plain": [
       "51318"
      ]
     },
     "execution_count": 17,
     "metadata": {},
     "output_type": "execute_result"
    }
   ],
   "source": [
    "len(humanlength)"
   ]
  },
  {
   "cell_type": "code",
   "execution_count": 18,
   "metadata": {},
   "outputs": [
    {
     "data": {
      "text/plain": [
       "51318"
      ]
     },
     "execution_count": 18,
     "metadata": {},
     "output_type": "execute_result"
    }
   ],
   "source": [
    "len(shortestpath)"
   ]
  },
  {
   "cell_type": "code",
   "execution_count": 19,
   "metadata": {},
   "outputs": [],
   "source": [
    "hpsame=hp1=hp2=hp3=hp4=hp5=hp6=hp7=hp8=hp9=hp10=hp11nm=0\n",
    "for i in range(len(path)):\n",
    "    if (humanlength[i]-shortestpath[i])==0:\n",
    "        hpsame+=1\n",
    "    elif (humanlength[i]-shortestpath[i])==1:\n",
    "        hp1+=1\n",
    "    elif (humanlength[i]-shortestpath[i])==2:\n",
    "        hp2+=1\n",
    "    elif (humanlength[i]-shortestpath[i])==3:\n",
    "        hp3+=1\n",
    "    elif (humanlength[i]-shortestpath[i])==4:\n",
    "        hp4+=1\n",
    "    elif (humanlength[i]-shortestpath[i])==5:\n",
    "        hp5+=1\n",
    "    elif (humanlength[i]-shortestpath[i])==6:\n",
    "        hp6+=1\n",
    "    elif (humanlength[i]-shortestpath[i])==7:\n",
    "        hp7+=1\n",
    "    elif (humanlength[i]-shortestpath[i])==8:\n",
    "        hp8+=1\n",
    "    elif (humanlength[i]-shortestpath[i])==9:\n",
    "        hp9+=1\n",
    "    elif (humanlength[i]-shortestpath[i])==10:\n",
    "        hp10+=1\n",
    "    elif (humanlength[i]-shortestpath[i])>=11:\n",
    "        hp11nm+=1\n",
    "    \n",
    "    "
   ]
  },
  {
   "cell_type": "code",
   "execution_count": 21,
   "metadata": {},
   "outputs": [
    {
     "data": {
      "text/plain": [
       "51318"
      ]
     },
     "execution_count": 21,
     "metadata": {},
     "output_type": "execute_result"
    }
   ],
   "source": [
    "hp1+hp2+hp3+hp4+hp5+hp6+hp7+hp8+hp9+hp10+hp11nm+hpsame"
   ]
  },
  {
   "cell_type": "code",
   "execution_count": 22,
   "metadata": {},
   "outputs": [],
   "source": [
    "samepct=round(hpsame/lenpath,5)\n",
    "hp1pct=round(hp1/lenpath,5)\n",
    "hp2pct=round(hp2/lenpath,5)\n",
    "hp3pct=round(hp3/lenpath,5)\n",
    "hp4pct=round(hp4/lenpath,5)\n",
    "hp5pct=round(hp5/lenpath,5)\n",
    "hp6pct=round(hp6/lenpath,5)\n",
    "hp7pct=round(hp7/lenpath,5)\n",
    "hp8pct=round(hp8/lenpath,5)\n",
    "hp9pct=round(hp9/lenpath,5)\n",
    "hp10pct=round(hp10/lenpath,5)\n",
    "hp11nmpct=round(hp11nm/lenpath,5)"
   ]
  },
  {
   "cell_type": "code",
   "execution_count": null,
   "metadata": {},
   "outputs": [],
   "source": []
  },
  {
   "cell_type": "code",
   "execution_count": 23,
   "metadata": {},
   "outputs": [],
   "source": [
    "with open('percentage-paths-back.csv', mode='a',newline='') as csv_file:\n",
    "    csv_writer = csv.writer(csv_file)\n",
    "    csv_writer.writerow([\"same\",\"1\",\"2\",\"3\",\"4\",\"5\",\"6\",\"7\",\"8\",\"9\",\"10\",\"11 or more\"])\n",
    "    csv_writer.writerow([samepct,hp1pct,hp2pct,hp3pct,hp4pct,hp5pct,hp6pct,hp7pct,hp8pct,hp9pct,hp10pct,hp11nmpct])\n",
    "    \n"
   ]
  },
  {
   "cell_type": "code",
   "execution_count": null,
   "metadata": {},
   "outputs": [],
   "source": []
  },
  {
   "cell_type": "code",
   "execution_count": null,
   "metadata": {},
   "outputs": [],
   "source": []
  },
  {
   "cell_type": "code",
   "execution_count": null,
   "metadata": {},
   "outputs": [],
   "source": []
  },
  {
   "cell_type": "code",
   "execution_count": 24,
   "metadata": {},
   "outputs": [],
   "source": [
    "#for no back edges"
   ]
  },
  {
   "cell_type": "code",
   "execution_count": 25,
   "metadata": {},
   "outputs": [],
   "source": [
    "fpnb=pd.read_csv(\"finished-paths-no-back.csv\")\n"
   ]
  },
  {
   "cell_type": "code",
   "execution_count": 26,
   "metadata": {},
   "outputs": [],
   "source": [
    "pathno=fpnb[\"path\"].values.tolist()\n",
    "humanlengthno=fpnb[\"humanlength\"].values.tolist()\n",
    "shortestpathno=fpnb[\"shortestpath\"].values.tolist()"
   ]
  },
  {
   "cell_type": "code",
   "execution_count": 27,
   "metadata": {},
   "outputs": [],
   "source": [
    "lenpathno=len(pathno)"
   ]
  },
  {
   "cell_type": "code",
   "execution_count": 32,
   "metadata": {},
   "outputs": [],
   "source": [
    "hpsameno=hp1no=hp2no=hp3no=hp4no=hp5no=hp6no=hp7no=hp8no=hp9no=hp10no=hp11nmno=0\n",
    "#wtf=0\n",
    "#damnpa=list()\n",
    "\n",
    "for i in range(len(pathno)):\n",
    "    if (humanlengthno[i]-shortestpathno[i])==0:\n",
    "        hpsameno+=1\n",
    "    elif (humanlengthno[i]-shortestpathno[i])==1:\n",
    "        hp1no+=1\n",
    "    elif (humanlengthno[i]-shortestpathno[i])==2:\n",
    "        hp2no+=1\n",
    "    elif (humanlengthno[i]-shortestpathno[i])==3:\n",
    "        hp3no+=1\n",
    "    elif (humanlengthno[i]-shortestpathno[i])==4:\n",
    "        hp4no+=1\n",
    "    elif (humanlengthno[i]-shortestpathno[i])==5:\n",
    "        hp5no+=1\n",
    "    elif (humanlengthno[i]-shortestpathno[i])==6:\n",
    "        hp6no+=1\n",
    "    elif (humanlengthno[i]-shortestpathno[i])==7:\n",
    "        hp7no+=1\n",
    "    elif (humanlengthno[i]-shortestpathno[i])==8:\n",
    "        hp8no+=1\n",
    "    elif (humanlengthno[i]-shortestpathno[i])==9:\n",
    "        hp9no+=1\n",
    "    elif (humanlengthno[i]-shortestpathno[i])==10:\n",
    "        hp10no+=1\n",
    "    elif (humanlengthno[i]-shortestpathno[i])>=11:\n",
    "        hp11nmno+=1\n",
    "    #elif (humanlengthno[i]-shortestpathno[i])<0:\n",
    "        #damnpa.append(pathno[i]+str(i))\n",
    "        #wtf+=1\n",
    "    \n",
    "    "
   ]
  },
  {
   "cell_type": "code",
   "execution_count": 33,
   "metadata": {},
   "outputs": [
    {
     "data": {
      "text/plain": [
       "51318"
      ]
     },
     "execution_count": 33,
     "metadata": {},
     "output_type": "execute_result"
    }
   ],
   "source": [
    "hpsameno+hp1no+hp2no+hp3no+hp4no+hp5no+hp6no+hp7no+hp8no+hp9no+hp10no+hp11nmno"
   ]
  },
  {
   "cell_type": "code",
   "execution_count": 34,
   "metadata": {},
   "outputs": [
    {
     "data": {
      "text/plain": [
       "0"
      ]
     },
     "execution_count": 34,
     "metadata": {},
     "output_type": "execute_result"
    }
   ],
   "source": [
    "wtf"
   ]
  },
  {
   "cell_type": "markdown",
   "metadata": {},
   "source": [
    "# Check your shortest path logic"
   ]
  },
  {
   "cell_type": "markdown",
   "metadata": {},
   "source": [
    "# How is the human length less than shortest path"
   ]
  },
  {
   "cell_type": "markdown",
   "metadata": {},
   "source": [
    "# Else everything from above questions might be wrong"
   ]
  },
  {
   "cell_type": "code",
   "execution_count": 35,
   "metadata": {},
   "outputs": [
    {
     "data": {
      "text/plain": [
       "[]"
      ]
     },
     "execution_count": 35,
     "metadata": {},
     "output_type": "execute_result"
    }
   ],
   "source": [
    "damnpa"
   ]
  },
  {
   "cell_type": "code",
   "execution_count": 36,
   "metadata": {},
   "outputs": [],
   "source": [
    "samenopct=round(hpsameno/lenpathno,5)\n",
    "hp1nopct=round(hp1no/lenpathno,5)\n",
    "hp2nopct=round(hp2no/lenpathno,5)\n",
    "hp3nopct=round(hp3no/lenpathno,5)\n",
    "hp4nopct=round(hp4no/lenpathno,5)\n",
    "hp5nopct=round(hp5no/lenpathno,5)\n",
    "hp6nopct=round(hp6no/lenpathno,5)\n",
    "hp7nopct=round(hp7no/lenpathno,5)\n",
    "hp8nopct=round(hp8no/lenpathno,5)\n",
    "hp9nopct=round(hp9no/lenpathno,5)\n",
    "hp10nopct=round(hp10no/lenpathno,5)\n",
    "hp11nmnopct=round(hp11nmno/lenpathno,5)"
   ]
  },
  {
   "cell_type": "code",
   "execution_count": null,
   "metadata": {},
   "outputs": [],
   "source": []
  },
  {
   "cell_type": "code",
   "execution_count": null,
   "metadata": {},
   "outputs": [],
   "source": []
  },
  {
   "cell_type": "code",
   "execution_count": 37,
   "metadata": {},
   "outputs": [],
   "source": [
    "with open('percentage-paths-no-back.csv', mode='a',newline='') as csv_file:\n",
    "    csv_writer = csv.writer(csv_file)\n",
    "    csv_writer.writerow([\"same\",\"1\",\"2\",\"3\",\"4\",\"5\",\"6\",\"7\",\"8\",\"9\",\"10\",\"11 or more\"])\n",
    "    csv_writer.writerow([samenopct,hp1nopct,hp2nopct,hp3nopct,hp4nopct,hp5nopct,hp6nopct,hp7nopct,hp8nopct,hp9nopct,hp10nopct,hp11nmnopct])\n",
    "    \n"
   ]
  },
  {
   "cell_type": "code",
   "execution_count": null,
   "metadata": {},
   "outputs": [],
   "source": []
  }
 ],
 "metadata": {
  "kernelspec": {
   "display_name": "Python 3",
   "language": "python",
   "name": "python3"
  },
  "language_info": {
   "codemirror_mode": {
    "name": "ipython",
    "version": 3
   },
   "file_extension": ".py",
   "mimetype": "text/x-python",
   "name": "python",
   "nbconvert_exporter": "python",
   "pygments_lexer": "ipython3",
   "version": "3.8.3"
  }
 },
 "nbformat": 4,
 "nbformat_minor": 4
}
