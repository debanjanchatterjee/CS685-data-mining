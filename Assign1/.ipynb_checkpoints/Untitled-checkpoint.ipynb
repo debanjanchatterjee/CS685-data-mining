{
 "cells": [
  {
   "cell_type": "code",
   "execution_count": null,
   "metadata": {},
   "outputs": [],
   "source": [
    "import json\n",
    "import pandas as pd\n",
    "import csv\n",
    "from fuzzywuzzy import fuzz\n",
    "from fuzzywuzzy import process\n",
    "\n"
   ]
  },
  {
   "cell_type": "code",
   "execution_count": null,
   "metadata": {},
   "outputs": [],
   "source": [
    "f=open('neighbor-districts.json')\n",
    "data=json.load(f)\n",
    "#print(data)\n",
    "district=list()\n",
    "for k in data.keys():\n",
    "   district.append(k)\n",
    "#print(len(district))\n",
    "\n",
    "\n",
    "f.close()"
   ]
  },
  {
   "cell_type": "code",
   "execution_count": null,
   "metadata": {},
   "outputs": [],
   "source": [
    "district.sort()\n",
    "dist_map=dict()\n",
    "enc=101\n",
    "\n",
    "for x in district:\n",
    "    dist_map[x]=enc\n",
    "    enc+=1\n",
    "   "
   ]
  },
  {
   "cell_type": "code",
   "execution_count": null,
   "metadata": {},
   "outputs": [],
   "source": [
    "#dist_cases_covid = pd.read_csv(\"district_wise.csv\")\n",
    "#dataset=dist_cases_covid.iloc[:,4:6].values;\n",
    "#print(dataset)\n",
    "\n"
   ]
  },
  {
   "cell_type": "code",
   "execution_count": null,
   "metadata": {},
   "outputs": [],
   "source": [
    "f2=open('data-all.json')\n",
    "dataset=json.load(f2)\n",
    "f2.close()\n",
    "#print(dataset['2020-06-02']['AP']['districts']['Anantapur']['delta']['confirmed'])\n",
    "#print(dataset['2020-03-15'])"
   ]
  },
  {
   "cell_type": "code",
   "execution_count": null,
   "metadata": {},
   "outputs": [],
   "source": [
    "\n",
    "days2020=[range(30,31),range(1,29),range(15,31),range(1,30),range(1,31),range(1,30),range(1,31),range(1,31),range(1,5),range(1,31),range(1,30),range(1,31)]\n",
    "year='2020'\n",
    "dist_covid=set()\n",
    "state_covid=dict()\n",
    "\n",
    "day=30\n",
    "for month in range(3, 9):\n",
    "    for day in days2020[month-1]:\n",
    "        if(month<10):\n",
    "            smonth='0'+str(month)\n",
    "        else:\n",
    "            smonth=str(month)\n",
    "        if(day<10):\n",
    "            sday='0'+str(day)\n",
    "        else:\n",
    "            sday=str(day)\n",
    "        x=year+'-'+smonth+'-'+sday\n",
    "        for states in dataset[x].keys():\n",
    "            state_covid[states]=set()\n",
    "            d=dataset[x][states]\n",
    "            if 'districts' in d.keys():\n",
    "                for keys in d['districts'].keys():\n",
    "                    dist_covid.add(keys)\n",
    "                    state_covid[states].add(keys)\n",
    "        \n",
    "print(state_covid.keys())\n",
    "\n",
    "    \n",
    "    "
   ]
  },
  {
   "cell_type": "code",
   "execution_count": null,
   "metadata": {},
   "outputs": [],
   "source": [
    "#Question 1\n",
    "#overall number of cases\n",
    "\n",
    "\n",
    "\n",
    "#print(dist_covid)\n",
    "#print(dataset['2020-06-02']['UN'])\n",
    "\n",
    "overall_cases=dict()\n",
    "\n",
    "for month in range(3, 9):\n",
    "    for day in days2020[month-1]:\n",
    "        if(month<10):\n",
    "            smonth='0'+str(month)\n",
    "        else:\n",
    "            smonth=str(month)\n",
    "        if(day<10):\n",
    "            sday='0'+str(day)\n",
    "        else:\n",
    "            sday=str(day)\n",
    "        x=year+'-'+smonth+'-'+sday\n",
    "        #print(x)\n",
    "        for states in dataset[x].keys():\n",
    "            d=dataset[x][states]\n",
    "            if 'districts' in d.keys():\n",
    "                for keys in d['districts'].keys():\n",
    "                    if 'delta' in dataset[x][states]['districts'][keys].keys():\n",
    "                        if 'confirmed' in dataset[x][states]['districts'][keys]['delta'].keys():\n",
    "                            if keys in overall_cases.keys():\n",
    "                                overall_cases[keys]=overall_cases[keys]+dataset[x][states]['districts'][keys]['delta']['confirmed']\n",
    "                            else:\n",
    "                                overall_cases[keys]=dataset[x][states]['districts'][keys]['delta']['confirmed']\n",
    "                    \n",
    "#print(overall_cases)\n",
    "total=0\n",
    "for x in overall_cases.keys():\n",
    "    total=total+overall_cases[x]\n",
    "print(total)\n",
    "\n",
    "\n"
   ]
  },
  {
   "cell_type": "code",
   "execution_count": null,
   "metadata": {},
   "outputs": [],
   "source": [
    "#question1\n",
    "#monthly cases\n"
   ]
  },
  {
   "cell_type": "code",
   "execution_count": null,
   "metadata": {},
   "outputs": [],
   "source": [
    "dist_covid=list(dist_covid)\n",
    "index=0\n",
    "\n",
    "highest = process.extractOne('palghat',dist_covid)\n",
    "#print(highest)"
   ]
  },
  {
   "cell_type": "code",
   "execution_count": null,
   "metadata": {},
   "outputs": [],
   "source": [
    "#Question 3\n",
    "\n",
    "\n",
    "\n",
    "f=open('neighbor-districts.json')\n",
    "adj_list=json.load(f)\n",
    "edge_list=set()\n",
    "#print(adj_list)\n",
    "\n",
    "for district in adj_list.keys():\n",
    "    for neighbors in adj_list[district]:\n",
    "        \n",
    "        edge=[dist_map[district],dist_map[neighbors]]\n",
    "        \n",
    "        edge.sort()\n",
    "        \n",
    "        edge_list.add(tuple(edge))\n",
    "        \n",
    "        \n",
    "#print(edge_list)\n",
    "#print(len(edge_list))\n",
    "    \n",
    "\n"
   ]
  },
  {
   "cell_type": "code",
   "execution_count": null,
   "metadata": {},
   "outputs": [],
   "source": [
    "#Question 3 storing into csv file\n",
    "\n",
    "file = open('edge-graph.csv', 'w+', newline ='') \n",
    "with file:     \n",
    "    write = csv.writer(file) \n",
    "    write.writerows(edge_list) \n",
    "file.close()"
   ]
  },
  {
   "cell_type": "code",
   "execution_count": null,
   "metadata": {},
   "outputs": [],
   "source": []
  }
 ],
 "metadata": {
  "kernelspec": {
   "display_name": "Python 3.7 (tensorflow)",
   "language": "python",
   "name": "tensorflow"
  },
  "language_info": {
   "codemirror_mode": {
    "name": "ipython",
    "version": 3
   },
   "file_extension": ".py",
   "mimetype": "text/x-python",
   "name": "python",
   "nbconvert_exporter": "python",
   "pygments_lexer": "ipython3",
   "version": "3.7.9"
  }
 },
 "nbformat": 4,
 "nbformat_minor": 4
}
