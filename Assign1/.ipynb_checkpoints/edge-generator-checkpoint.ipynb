{
 "cells": [
  {
   "cell_type": "code",
   "execution_count": 1,
   "metadata": {},
   "outputs": [],
   "source": [
    "import json\n",
    "import csv"
   ]
  },
  {
   "cell_type": "code",
   "execution_count": 2,
   "metadata": {},
   "outputs": [],
   "source": [
    "#reading code_map\n",
    "f2=open('code_map.json')\n",
    "code_map=json.load(f2)\n",
    "f2.close()\n",
    "#print(code_map)\n"
   ]
  },
  {
   "cell_type": "code",
   "execution_count": 3,
   "metadata": {},
   "outputs": [],
   "source": [
    "#reading code_graph\n",
    "f2=open('codged-edge-graph.json')\n",
    "cg=json.load(f2)\n",
    "f2.close()\n",
    "#print(cg)"
   ]
  },
  {
   "cell_type": "code",
   "execution_count": 4,
   "metadata": {},
   "outputs": [],
   "source": [
    "#Question 3\n",
    "\n",
    "edge_list=set()\n",
    "#print(adj_list)\n",
    "\n",
    "for district in cg.keys():\n",
    "    for neighbors in cg[district]:\n",
    "        edge=[int(district),int(neighbors)]\n",
    "        \n",
    "        edge.sort()\n",
    "        \n",
    "        edge_list.add(tuple(edge))\n",
    "            \n",
    "#print(edge_list)\n",
    "#print(len(edge_list))"
   ]
  },
  {
   "cell_type": "code",
   "execution_count": 5,
   "metadata": {},
   "outputs": [],
   "source": [
    "#Question 3 storing into csv file\n",
    "\n",
    "file = open('edge-graph.csv', 'w+', newline ='') \n",
    "with file:     \n",
    "    write = csv.writer(file) \n",
    "    write.writerows(edge_list) \n",
    "file.close()"
   ]
  },
  {
   "cell_type": "code",
   "execution_count": null,
   "metadata": {},
   "outputs": [],
   "source": []
  }
 ],
 "metadata": {
  "kernelspec": {
   "display_name": "Python 3.7 (tensorflow)",
   "language": "python",
   "name": "tensorflow"
  },
  "language_info": {
   "codemirror_mode": {
    "name": "ipython",
    "version": 3
   },
   "file_extension": ".py",
   "mimetype": "text/x-python",
   "name": "python",
   "nbconvert_exporter": "python",
   "pygments_lexer": "ipython3",
   "version": "3.7.9"
  }
 },
 "nbformat": 4,
 "nbformat_minor": 4
}
