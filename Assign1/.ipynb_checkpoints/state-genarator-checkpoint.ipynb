{
 "cells": [
  {
   "cell_type": "code",
   "execution_count": null,
   "metadata": {},
   "outputs": [],
   "source": [
    "import json\n",
    "import statistics\n",
    "import csv"
   ]
  },
  {
   "cell_type": "code",
   "execution_count": null,
   "metadata": {},
   "outputs": [],
   "source": [
    "#reading code_map\n",
    "f2=open('code_map.json')\n",
    "code_map=json.load(f2)\n",
    "f2.close()"
   ]
  },
  {
   "cell_type": "code",
   "execution_count": null,
   "metadata": {},
   "outputs": [],
   "source": [
    "#reading data-all.json\n",
    "\n",
    "\n",
    "\n",
    "f2=open('data-all.json')\n",
    "dataset=json.load(f2)\n",
    "f2.close()\n",
    "#print(dataset['2020-06-02']['AP']['districts']['Anantapur']['delta']['confirmed'])\n",
    "#print(dataset['2020-03-15'])"
   ]
  },
  {
   "cell_type": "code",
   "execution_count": null,
   "metadata": {},
   "outputs": [],
   "source": [
    "#handling Unknowns\n",
    "\n",
    "unknown_map=dict()\n",
    "unknown_map['Unknown_TG']=code_map['Telangana_TG']\n",
    "unknown_map['Unknown_MN']=code_map['Manipur_MN']\n",
    "unknown_map['Unknown_GA']=code_map['Goa_GA']\n",
    "unknown_map['Unknown_AS']=code_map['Assam_AS']\n",
    "unknown_map['Unknown_SK']=code_map['Sikkim_SK']\n",
    "#print(code_map['Assam_AS'])\n"
   ]
  },
  {
   "cell_type": "code",
   "execution_count": null,
   "metadata": {},
   "outputs": [],
   "source": [
    "#creating states and district list from data-all.json\n",
    "\n",
    "days2020=[range(30,32),range(1,30),range(15,32),range(1,31),range(1,32),range(1,31),range(1,32),range(1,32),range(1,6),range(1,32),range(1,31),range(1,32)]\n",
    "year='2020'\n",
    "dist_covid=set()\n",
    "state_covid=dict()\n",
    "\n",
    "day=30\n",
    "for month in range(3, 10):\n",
    "    for day in days2020[month-1]:\n",
    "        if(month<10):\n",
    "            smonth='0'+str(month)\n",
    "        else:\n",
    "            smonth=str(month)\n",
    "        if(day<10):\n",
    "            sday='0'+str(day)\n",
    "        else:\n",
    "            sday=str(day)\n",
    "        x=year+'-'+smonth+'-'+sday\n",
    "        for states in dataset[x].keys():\n",
    "            state_covid[states]=set()\n",
    "            d=dataset[x][states]\n",
    "            if 'districts' in d.keys():\n",
    "                for keys in d['districts'].keys():\n",
    "                    dist_covid.add(keys)\n",
    "                    state_covid[states].add(keys)\n",
    "        \n",
    "#print(state_covid.keys())\n",
    "l=0\n",
    "for i in state_covid:\n",
    "   l=l+len(state_covid[i])\n",
    "\n",
    "print(l)\n",
    "    \n",
    "    "
   ]
  },
  {
   "cell_type": "code",
   "execution_count": null,
   "metadata": {},
   "outputs": [],
   "source": [
    "#getting the cases\n",
    "\n",
    "\n",
    "\n",
    "#print(state_covid)\n",
    "\n",
    "state_map=dict()\n",
    "for s in state_covid.keys():\n",
    "    state_map[s]=list()\n",
    "    for d in state_covid[s]:\n",
    "        name=d+'_'+s\n",
    "        if name in code_map.keys():\n",
    "            state_map[s].append(code_map[name])\n",
    "        elif name in unknown_map.keys():\n",
    "            state_map[s].append(unknown_map[name])\n",
    "            \n",
    "\n",
    "\n",
    "print(state_map)\n",
    "            \n",
    "\n",
    "\n",
    "\n"
   ]
  },
  {
   "cell_type": "code",
   "execution_count": null,
   "metadata": {},
   "outputs": [],
   "source": [
    "#reading lookups\n",
    "\n",
    "\n",
    "f1=open('lookup_overall.json')\n",
    "lookup_ovr=json.load(f1)\n",
    "f1.close()\n",
    "#print(lookup_ovr)\n",
    "\n",
    "\n"
   ]
  },
  {
   "cell_type": "code",
   "execution_count": null,
   "metadata": {},
   "outputs": [],
   "source": [
    "#reading lookups\n",
    "\n",
    "\n",
    "f1=open('lookup_month.json')\n",
    "lookup_month=json.load(f1)\n",
    "f1.close()\n",
    "print(lookup_month)"
   ]
  },
  {
   "cell_type": "code",
   "execution_count": null,
   "metadata": {},
   "outputs": [],
   "source": [
    "#reading lookups\n",
    "\n",
    "\n",
    "f1=open('lookup_week.json')\n",
    "lookup_week=json.load(f1)\n",
    "f1.close()\n",
    "print(lookup_week)\n"
   ]
  },
  {
   "cell_type": "code",
   "execution_count": null,
   "metadata": {},
   "outputs": [],
   "source": [
    "# reverse code_map\n",
    "\n",
    "\n",
    "cm_rev=dict()\n",
    "for x in code_map.keys():\n",
    "    cm_rev[code_map[x]]=x\n",
    "    \n",
    "#print(cm_rev)\n"
   ]
  },
  {
   "cell_type": "code",
   "execution_count": null,
   "metadata": {},
   "outputs": [],
   "source": [
    "#now I have all the data structures needed to solve the problem\n",
    "#solving for overall\n",
    "\n",
    "\n",
    "overall_list=list()\n",
    "sos=dict()\n",
    "\n",
    "\n",
    "for d in lookup_ovr.keys():\n",
    "    for t in lookup_ovr[d].keys():\n",
    "        n_cases=list()\n",
    "        name=cm_rev[int(d)]\n",
    "        scode=name[-2:]\n",
    "        \n",
    "        for dist in state_map[scode]:\n",
    "            if dist!=d:\n",
    "                n_cases.append(int(lookup_ovr[str(dist)][t]))\n",
    "        if(len(n_cases)<1):\n",
    "            mean=int(lookup_ovr[str(d)][t])\n",
    "        else:\n",
    "            mean=statistics.mean(n_cases)\n",
    "        if(len(n_cases)<2):\n",
    "            std=0\n",
    "        else:\n",
    "            std=statistics.stdev(n_cases)\n",
    "        overall_list.append([d,t,round(mean,2),round(std,2)])\n",
    "        sos[d]=dict()\n",
    "        sos[d][t]=[round(mean,2),round(std,2)]\n",
    "\n",
    "\n",
    "\n",
    "\n",
    "\n",
    "print(len(overall_list))\n",
    "#print(overall_list)\n",
    "#print(sos)\n",
    "overall_list_sorted=sorted(overall_list, key=lambda x:x[0])\n",
    "overall_list_sorted.insert(0,['districtid','timeid','statemean','statestddev']) \n",
    "print(overall_list_sorted)"
   ]
  },
  {
   "cell_type": "code",
   "execution_count": null,
   "metadata": {},
   "outputs": [],
   "source": [
    "#saving the coded graph\n",
    "with open('state-overall.json', 'w') as fp1:\n",
    "    json.dump(sos, fp1)\n",
    "fp1.close()\n"
   ]
  },
  {
   "cell_type": "code",
   "execution_count": null,
   "metadata": {},
   "outputs": [],
   "source": [
    "#creating cases-overall.csv \n",
    "\n",
    "file = open('state-overall.csv', 'w+', newline ='') \n",
    "with file:     \n",
    "    write = csv.writer(file) \n",
    "    write.writerows(overall_list_sorted) \n",
    "file.close()"
   ]
  },
  {
   "cell_type": "code",
   "execution_count": null,
   "metadata": {},
   "outputs": [],
   "source": [
    "#now I have all the data structures needed to solve the problem\n",
    "#solving for month\n",
    "\n",
    "\n",
    "monthly_list=list()\n",
    "sms=dict()\n",
    "\n",
    "\n",
    "for d in lookup_month.keys():\n",
    "    for t in lookup_month[d].keys():\n",
    "        n_cases=list()\n",
    "        name=cm_rev[int(d)]\n",
    "        scode=name[-2:]\n",
    "        \n",
    "        for dist in state_map[scode]:\n",
    "            if dist!=d:\n",
    "                n_cases.append(int(lookup_month[str(dist)][t]))\n",
    "        if(len(n_cases)<1):\n",
    "            mean=int(lookup_month[str(d)][t])\n",
    "        else:\n",
    "            mean=statistics.mean(n_cases)\n",
    "        if(len(n_cases)<2):\n",
    "            std=0\n",
    "        else:\n",
    "            std=statistics.stdev(n_cases)\n",
    "        monthly_list.append([d,t,round(mean,2),round(std,2)])\n",
    "        sms[d]=dict()\n",
    "        sms[d][t]=[round(mean,2),round(std,2)]\n",
    "\n",
    "\n",
    "\n",
    "\n",
    "\n",
    "print(len(monthly_list))\n",
    "#print(overall_list)\n",
    "#print(sms)\n",
    "#overall_list_sorted=sorted(overall_list, key=lambda x:x[0])\n",
    "monthly_list_sorted=sorted(monthly_list, key=lambda x:(x[0],int(x[1])))\n",
    "monthly_list_sorted.insert(0,['districtid','timeid','statemean','statestddev']) \n",
    "print(monthly_list_sorted)"
   ]
  },
  {
   "cell_type": "code",
   "execution_count": null,
   "metadata": {},
   "outputs": [],
   "source": [
    "#saving the coded graph\n",
    "with open('state-month.json', 'w') as fp1:\n",
    "    json.dump(sms, fp1)\n",
    "fp1.close()\n"
   ]
  },
  {
   "cell_type": "code",
   "execution_count": null,
   "metadata": {},
   "outputs": [],
   "source": [
    "#creating cases-overall.csv \n",
    "\n",
    "file = open('state-month.csv', 'w+', newline ='') \n",
    "with file:     \n",
    "    write = csv.writer(file) \n",
    "    write.writerows(monthly_list_sorted) \n",
    "file.close()"
   ]
  },
  {
   "cell_type": "code",
   "execution_count": null,
   "metadata": {
    "scrolled": false
   },
   "outputs": [],
   "source": [
    "#now I have all the data structures needed to solve the problem\n",
    "#solving for week\n",
    "\n",
    "\n",
    "weekly_list=list()\n",
    "sws=dict()\n",
    "\n",
    "\n",
    "for d in lookup_week.keys():\n",
    "    for t in lookup_week[d].keys():\n",
    "        n_cases=list()\n",
    "        name=cm_rev[int(d)]\n",
    "        scode=name[-2:]\n",
    "        \n",
    "        for dist in state_map[scode]:\n",
    "            if dist!=d:\n",
    "                n_cases.append(int(lookup_week[str(dist)][t]))\n",
    "        if(len(n_cases)<1):\n",
    "            mean=int(lookup_week[str(d)][t])\n",
    "        else:\n",
    "            mean=statistics.mean(n_cases)\n",
    "        if(len(n_cases)<2):\n",
    "            std=0\n",
    "        else:\n",
    "            std=statistics.stdev(n_cases)\n",
    "        weekly_list.append([d,t,round(mean,2),round(std,2)])\n",
    "        sws[d]=dict()\n",
    "        sws[d][t]=[round(mean,2),round(std,2)]\n",
    "\n",
    "\n",
    "\n",
    "\n",
    "\n",
    "#print(len(weekly_list))\n",
    "#print(overall_list)\n",
    "#print(sws)\n",
    "#overall_list_sorted=sorted(overall_list, key=lambda x:x[0])\n",
    "\n",
    "weekly_list_sorted=sorted(weekly_list, key=lambda x:(x[0],int(x[1])))\n",
    "weekly_list_sorted.insert(0,['districtid','timeid','statemean','statestddev']) \n",
    "#print(weekly_list_sorted)"
   ]
  },
  {
   "cell_type": "code",
   "execution_count": null,
   "metadata": {},
   "outputs": [],
   "source": [
    "#saving the coded graph\n",
    "with open('state-week.json', 'w') as fp1:\n",
    "    json.dump(sws, fp1)\n",
    "fp1.close()\n"
   ]
  },
  {
   "cell_type": "code",
   "execution_count": null,
   "metadata": {},
   "outputs": [],
   "source": [
    "#creating cases-overall.csv \n",
    "\n",
    "file = open('state-week.csv', 'w+', newline ='') \n",
    "with file:     \n",
    "    write = csv.writer(file) \n",
    "    write.writerows(weekly_list_sorted) \n",
    "file.close()"
   ]
  },
  {
   "cell_type": "code",
   "execution_count": null,
   "metadata": {},
   "outputs": [],
   "source": []
  }
 ],
 "metadata": {
  "kernelspec": {
   "display_name": "Python 3.7 (tensorflow)",
   "language": "python",
   "name": "tensorflow"
  },
  "language_info": {
   "codemirror_mode": {
    "name": "ipython",
    "version": 3
   },
   "file_extension": ".py",
   "mimetype": "text/x-python",
   "name": "python",
   "nbconvert_exporter": "python",
   "pygments_lexer": "ipython3",
   "version": "3.7.9"
  }
 },
 "nbformat": 4,
 "nbformat_minor": 4
}
