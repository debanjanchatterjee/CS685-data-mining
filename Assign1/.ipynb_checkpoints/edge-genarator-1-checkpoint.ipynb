{
 "cells": [
  {
   "cell_type": "code",
   "execution_count": null,
   "metadata": {},
   "outputs": [],
   "source": [
    "import json\n",
    "import pandas as pd\n",
    "import csv"
   ]
  },
  {
   "cell_type": "code",
   "execution_count": null,
   "metadata": {},
   "outputs": [],
   "source": [
    "#reading code_map\n",
    "f2=open('code_map.json')\n",
    "code_map=json.load(f2)\n",
    "f2.close()\n",
    "#print(code_map)\n",
    "\n",
    "\n",
    "f2=open('nd2da.json')\n",
    "nd2da=json.load(f2)\n",
    "f2.close()\n",
    "\n",
    "f2=open('merged.json')\n",
    "merged=json.load(f2)\n",
    "f2.close()\n"
   ]
  },
  {
   "cell_type": "code",
   "execution_count": null,
   "metadata": {},
   "outputs": [],
   "source": [
    "\n",
    "f=open('neighbor-districts-modified.json')\n",
    "adj_list=json.load(f)\n",
    "edge_list=set()\n",
    "#print(adj_list)\n",
    "\n",
    "\n",
    "cg=dict()\n",
    "\n",
    "for x in adj_list.keys():\n",
    "    if x in code_map.keys():\n",
    "        cg[code_map[x]]=list()\n",
    "        key=code_map[x]\n",
    "    elif x in nd2da.keys():\n",
    "        temp=nd2da[x]\n",
    "        cg[code_map[temp]]=list()\n",
    "        key=code_map[temp]\n",
    "    elif x in merged.keys():\n",
    "        temp=merged[x]\n",
    "        cg[code_map[temp]]=list()\n",
    "        key=code_map[temp]\n",
    "    else:\n",
    "        arr=x.split('/')\n",
    "        cg[arr[1]]=list()\n",
    "        key=arr[1]\n",
    "    \n",
    "    for y in adj_list[x]:\n",
    "        if y in code_map.keys():\n",
    "            key2=code_map[y]\n",
    "        elif y in nd2da.keys():\n",
    "            key2=code_map[nd2da[y]]\n",
    "        elif y in merged.keys():\n",
    "            key2=code_map[merged[y]]\n",
    "        else:\n",
    "            arr2=y.split('/')\n",
    "            key2=arr2[1]\n",
    "    \n",
    "        cg[key].append(key2)\n",
    "\n",
    "print(len(cg))\n",
    "print(cg)\n",
    "\n",
    "    \n"
   ]
  },
  {
   "cell_type": "code",
   "execution_count": null,
   "metadata": {},
   "outputs": [],
   "source": [
    "#saving the coded graph\n",
    "with open('codged-edge-graph.json', 'w') as fp1:\n",
    "    json.dump(cg, fp1)\n",
    "fp1.close()\n"
   ]
  },
  {
   "cell_type": "code",
   "execution_count": null,
   "metadata": {},
   "outputs": [],
   "source": [
    "#Question 3\n",
    "\n",
    "edge_list=set()\n",
    "#print(adj_list)\n",
    "\n",
    "for district in cg.keys():\n",
    "    for neighbors in cg[district]:\n",
    "        edge=[int(district),int(neighbors)]\n",
    "        \n",
    "        edge.sort()\n",
    "        \n",
    "        edge_list.add(tuple(edge))\n",
    "            \n",
    "print(edge_list)\n",
    "print(len(edge_list))"
   ]
  },
  {
   "cell_type": "code",
   "execution_count": null,
   "metadata": {},
   "outputs": [],
   "source": [
    "#Question 3 storing into csv file\n",
    "\n",
    "file = open('edge-graph.csv', 'w+', newline ='') \n",
    "with file:     \n",
    "    write = csv.writer(file) \n",
    "    write.writerows(edge_list) \n",
    "file.close()"
   ]
  },
  {
   "cell_type": "code",
   "execution_count": null,
   "metadata": {},
   "outputs": [],
   "source": []
  }
 ],
 "metadata": {
  "kernelspec": {
   "display_name": "Python 3.7 (tensorflow)",
   "language": "python",
   "name": "tensorflow"
  },
  "language_info": {
   "codemirror_mode": {
    "name": "ipython",
    "version": 3
   },
   "file_extension": ".py",
   "mimetype": "text/x-python",
   "name": "python",
   "nbconvert_exporter": "python",
   "pygments_lexer": "ipython3",
   "version": "3.7.9"
  }
 },
 "nbformat": 4,
 "nbformat_minor": 4
}
