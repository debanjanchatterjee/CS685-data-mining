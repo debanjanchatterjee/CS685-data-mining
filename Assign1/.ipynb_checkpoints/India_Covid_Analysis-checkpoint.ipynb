{
 "cells": [
  {
   "cell_type": "code",
   "execution_count": 3,
   "metadata": {},
   "outputs": [],
   "source": [
    "import json\n",
    "import pandas as pd\n",
    "import csv\n",
    "from fuzzywuzzy import fuzz\n",
    "from fuzzywuzzy import process\n",
    "\n"
   ]
  },
  {
   "cell_type": "code",
   "execution_count": 4,
   "metadata": {},
   "outputs": [
    {
     "name": "stdout",
     "output_type": "stream",
     "text": [
      "723\n"
     ]
    }
   ],
   "source": [
    "f=open('neighbor-districts.json')\n",
    "data=json.load(f)\n",
    "#print(data)\n",
    "district=list()\n",
    "for k in data.keys():\n",
    "   district.append(k)\n",
    "print(len(district))\n",
    "\n",
    "\n",
    "f.close()"
   ]
  },
  {
   "cell_type": "code",
   "execution_count": 5,
   "metadata": {},
   "outputs": [],
   "source": [
    "district.sort()\n",
    "dist_map=dict()\n",
    "enc=101\n",
    "\n",
    "for x in district:\n",
    "    dist_map[x]=enc\n",
    "    enc+=1\n",
    "   "
   ]
  },
  {
   "cell_type": "code",
   "execution_count": 6,
   "metadata": {},
   "outputs": [],
   "source": [
    "#dist_cases_covid = pd.read_csv(\"district_wise.csv\")\n",
    "#dataset=dist_cases_covid.iloc[:,4:6].values;\n",
    "#print(dataset)\n",
    "\n"
   ]
  },
  {
   "cell_type": "code",
   "execution_count": 7,
   "metadata": {},
   "outputs": [],
   "source": [
    "f2=open('data-all.json')\n",
    "dataset=json.load(f2)\n",
    "f2.close()\n",
    "#print(dataset['2020-06-02']['AP']['districts']['Anantapur']['delta']['confirmed'])\n",
    "#print(dataset['2020-03-15'])"
   ]
  },
  {
   "cell_type": "code",
   "execution_count": 8,
   "metadata": {},
   "outputs": [
    {
     "name": "stdout",
     "output_type": "stream",
     "text": [
      "653\n"
     ]
    }
   ],
   "source": [
    "#creating states and district list from data-all.json\n",
    "\n",
    "days2020=[range(30,32),range(1,30),range(15,32),range(1,31),range(1,32),range(1,31),range(1,32),range(1,32),range(1,6),range(1,32),range(1,31),range(1,32)]\n",
    "year='2020'\n",
    "dist_covid=set()\n",
    "state_covid=dict()\n",
    "\n",
    "day=30\n",
    "for month in range(3, 10):\n",
    "    for day in days2020[month-1]:\n",
    "        if(month<10):\n",
    "            smonth='0'+str(month)\n",
    "        else:\n",
    "            smonth=str(month)\n",
    "        if(day<10):\n",
    "            sday='0'+str(day)\n",
    "        else:\n",
    "            sday=str(day)\n",
    "        x=year+'-'+smonth+'-'+sday\n",
    "        for states in dataset[x].keys():\n",
    "            state_covid[states]=set()\n",
    "            d=dataset[x][states]\n",
    "            if 'districts' in d.keys():\n",
    "                for keys in d['districts'].keys():\n",
    "                    dist_covid.add(keys)\n",
    "                    state_covid[states].add(keys)\n",
    "        \n",
    "#print(state_covid.keys())\n",
    "l=0\n",
    "for i in state_covid:\n",
    "   l=l+len(state_covid[i])\n",
    "\n",
    "print(l)\n",
    "    \n",
    "    "
   ]
  },
  {
   "cell_type": "code",
   "execution_count": 9,
   "metadata": {},
   "outputs": [
    {
     "name": "stdout",
     "output_type": "stream",
     "text": [
      "{'AN': 'Andaman and Nicobar Islands', 'AP': 'Andhra Pradesh', 'AR': 'Arunachal Pradesh', 'AS': 'Assam', 'BR': 'Bihar', 'CG': 'Chandigarh', 'CH': 'Chhattisgarh', 'DN': 'Dadra and Nagar Haveli', 'DD': 'Daman and Diu', 'DL': 'Delhi', 'GA': 'Goa', 'GJ': 'Gujarat', 'HR': 'Haryana', 'HP': 'Himachal Pradesh', 'JK': 'Jammu and Kashmir', 'JH': 'Jharkhand', 'KA': 'Karnataka', 'KL': 'Kerala', 'LA': 'Ladakh', 'LD': 'Lakshadweep', 'MP': 'Madhya Pradesh', 'MH': 'Maharashtra', 'MN': 'Manipur', 'ML': 'Meghalaya', 'MZ': 'Mizoram', 'NL': 'Nagaland', 'OR': 'Odisha', 'PY': 'Puducherry', 'PB': 'Punjab', 'RJ': 'Rajasthan', 'SK': 'Sikkim', 'TN': 'Tamil Nadu', 'TS': 'Telangana', 'TR': 'Tripura', 'UP': 'Uttar Pradesh', 'UK': 'Uttarakhand', 'WB': 'West Bengal'}\n"
     ]
    }
   ],
   "source": [
    "#creating state code map\n",
    "#preprocessing\n",
    "\n",
    "fstate=open(\"IndianStates.json\")\n",
    "state_code=json.load(fstate)\n",
    "fstate.close()\n",
    "\n",
    "\n",
    "\n",
    "#print(len(state_code))\n",
    "\n",
    "print(state_code)\n",
    "\n",
    "\n",
    "del state_code['TS']\n",
    "del state_code['UK']\n",
    "del state_code['CH']\n",
    "del state_code['CG']\n",
    "\n",
    "\n",
    "state_code['TG']='Telangana'\n",
    "state_code['TT']='Total'\n",
    "state_code['UT']='Uttarakhand'\n",
    "state_code['CH']='Chandigarh'\n",
    "state_code['CT']='Chattisgarh'\n",
    "state_code['UN']='Unknown'\n",
    "\n",
    "\n",
    "#print(state_code)\n",
    "\n",
    "#print(len(state_covid))\n",
    "\n",
    "\n"
   ]
  },
  {
   "cell_type": "code",
   "execution_count": 10,
   "metadata": {},
   "outputs": [
    {
     "name": "stdout",
     "output_type": "stream",
     "text": [
      "['S.P.S. Nellore_AP', 'Krishna_AP', 'Srikakulam_AP', 'Y.S.R. Kadapa_AP', 'Foreign Evacuees_AP', 'Chittoor_AP', 'Vizianagaram_AP', 'West Godavari_AP', 'Kurnool_AP', 'Prakasam_AP', 'Visakhapatnam_AP', 'East Godavari_AP', 'Anantapur_AP', 'Guntur_AP', 'Other State_AP', 'Delhi_DL', 'Sirmaur_HP', 'Kinnaur_HP', 'Bilaspur_HP', 'Una_HP', 'Lahaul and Spiti_HP', 'Kullu_HP', 'Kangra_HP', 'Hamirpur_HP', 'Shimla_HP', 'Chamba_HP', 'Mandi_HP', 'Solan_HP', 'Ambala_HR', 'Rewari_HR', 'Rohtak_HR', 'Palwal_HR', 'Sonipat_HR', 'Mahendragarh_HR', 'Kurukshetra_HR', 'Panchkula_HR', 'Yamunanagar_HR', 'Jind_HR', 'Gurugram_HR', 'Karnal_HR', 'Fatehabad_HR', 'Bhiwani_HR', 'Sirsa_HR', 'Panipat_HR', 'Charkhi Dadri_HR', 'Kaithal_HR', 'Nuh_HR', 'Hisar_HR', 'Jhajjar_HR', 'Faridabad_HR', 'Anantnag_JK', 'Srinagar_JK', 'Pulwama_JK', 'Shopiyan_JK', 'Udhampur_JK', 'Ganderbal_JK', 'Punch_JK', 'Budgam_JK', 'Rajouri_JK', 'Reasi_JK', 'Kathua_JK', 'Baramulla_JK', 'Samba_JK', 'Kupwara_JK', 'Jammu_JK', 'Kulgam_JK', 'Doda_JK', 'Bandipora_JK', 'Ramban_JK', 'Kishtwar_JK', 'Bagalkote_KA', 'Dakshina Kannada_KA', 'Chikkaballapura_KA', 'Haveri_KA', 'Chitradurga_KA', 'Belagavi_KA', 'Kodagu_KA', 'Chamarajanagara_KA', 'Chikkamagaluru_KA', 'Hassan_KA', 'Ramanagara_KA', 'Dharwad_KA', 'Koppal_KA', 'Mandya_KA', 'Yadgir_KA', 'Udupi_KA', 'Kolar_KA', 'Gadag_KA', 'Bidar_KA', 'Kalaburagi_KA', 'Davanagere_KA', 'Mysuru_KA', 'Vijayapura_KA', 'Shivamogga_KA', 'Bengaluru Rural_KA', 'Raichur_KA', 'Uttara Kannada_KA', 'Ballari_KA', 'Bengaluru Urban_KA', 'Tumakuru_KA', 'Other State_KA', 'Kasaragod_KL', 'Thiruvananthapuram_KL', 'Palakkad_KL', 'Alappuzha_KL', 'Kozhikode_KL', 'Ernakulam_KL', 'Idukki_KL', 'Pathanamthitta_KL', 'Malappuram_KL', 'Kannur_KL', 'Kollam_KL', 'Kottayam_KL', 'Thrissur_KL', 'Wayanad_KL', 'Leh_LA', 'Kargil_LA', 'Nanded_MH', 'Aurangabad_MH', 'Latur_MH', 'Dhule_MH', 'Nagpur_MH', 'Washim_MH', 'Nandurbar_MH', 'Jalna_MH', 'Beed_MH', 'Ahmednagar_MH', 'Mumbai_MH', 'Raigad_MH', 'Buldhana_MH', 'Kolhapur_MH', 'Satara_MH', 'Palghar_MH', 'Parbhani_MH', 'Sindhudurg_MH', 'Pune_MH', 'Osmanabad_MH', 'Chandrapur_MH', 'Yavatmal_MH', 'Gadchiroli_MH', 'Gondia_MH', 'Amravati_MH', 'Wardha_MH', 'Bhandara_MH', 'Sangli_MH', 'Solapur_MH', 'Hingoli_MH', 'Ratnagiri_MH', 'Akola_MH', 'Jalgaon_MH', 'Nashik_MH', 'Thane_MH', 'Other State_MH', 'Fazilka_PB', 'Ludhiana_PB', 'Tarn Taran_PB', 'Fatehgarh Sahib_PB', 'Amritsar_PB', 'Ferozepur_PB', 'Patiala_PB', 'Moga_PB', 'Hoshiarpur_PB', 'Shahid Bhagat Singh Nagar_PB', 'Bathinda_PB', 'Sangrur_PB', 'Sri Muktsar Sahib_PB', 'Kapurthala_PB', 'Gurdaspur_PB', 'Mansa_PB', 'Pathankot_PB', 'Rupnagar_PB', 'Barnala_PB', 'S.A.S. Nagar_PB', 'Jalandhar_PB', 'Faridkot_PB', 'Bundi_RJ', 'Jhunjhunu_RJ', 'Jodhpur_RJ', 'BSF Camp_RJ', 'Ganganagar_RJ', 'Ajmer_RJ', 'Italians_RJ', 'Alwar_RJ', 'Jhalawar_RJ', 'Churu_RJ', 'Banswara_RJ', 'Evacuees_RJ', 'Pali_RJ', 'Barmer_RJ', 'Tonk_RJ', 'Bharatpur_RJ', 'Bhilwara_RJ', 'Jaipur_RJ', 'Rajsamand_RJ', 'Bikaner_RJ', 'Sirohi_RJ', 'Sikar_RJ', 'Nagaur_RJ', 'Karauli_RJ', 'Jalore_RJ', 'Hanumangarh_RJ', 'Dungarpur_RJ', 'Kota_RJ', 'Sawai Madhopur_RJ', 'Baran_RJ', 'Dholpur_RJ', 'Dausa_RJ', 'Udaipur_RJ', 'Jaisalmer_RJ', 'Chittorgarh_RJ', 'Pratapgarh_RJ', 'Other State_RJ', 'Telangana_TG', 'Vellore_TN', 'Madurai_TN', 'Ariyalur_TN', 'Chennai_TN', 'Tirupathur_TN', 'Kanyakumari_TN', 'Dindigul_TN', 'Ranipet_TN', 'Salem_TN', 'Chengalpattu_TN', 'Cuddalore_TN', 'Kallakurichi_TN', 'Viluppuram_TN', 'Tiruchirappalli_TN', 'Virudhunagar_TN', 'Krishnagiri_TN', 'Railway Quarantine_TN', 'Tiruvannamalai_TN', 'Airport Quarantine_TN', 'Erode_TN', 'Thiruvarur_TN', 'Ramanathapuram_TN', 'Namakkal_TN', 'Thoothukkudi_TN', 'Dharmapuri_TN', 'Thiruvallur_TN', 'Perambalur_TN', 'Karur_TN', 'Sivaganga_TN', 'Coimbatore_TN', 'Nagapattinam_TN', 'Nilgiris_TN', 'Tirunelveli_TN', 'Tiruppur_TN', 'Tenkasi_TN', 'Theni_TN', 'Pudukkottai_TN', 'Kancheepuram_TN', 'Thanjavur_TN', 'Other State_TN', 'Baghpat_UP', 'Mirzapur_UP', 'Pilibhit_UP', 'Moradabad_UP', 'Mainpuri_UP', 'Amroha_UP', 'Ambedkar Nagar_UP', 'Mau_UP', 'Ghaziabad_UP', 'Etawah_UP', 'Saharanpur_UP', 'Firozabad_UP', 'Kanpur Dehat_UP', 'Farrukhabad_UP', 'Kushinagar_UP', 'Balrampur_UP', 'Sultanpur_UP', 'Lucknow_UP', 'Varanasi_UP', 'Azamgarh_UP', 'Chitrakoot_UP', 'Kasganj_UP', 'Sonbhadra_UP', 'Unnao_UP', 'Rae Bareli_UP', 'Shahjahanpur_UP', 'Shamli_UP', 'Muzaffarnagar_UP', 'Lakhimpur Kheri_UP', 'Gautam Buddha Nagar_UP', 'Gorakhpur_UP', 'Kannauj_UP', 'Rampur_UP', 'Sambhal_UP', 'Jaunpur_UP', 'Shrawasti_UP', 'Prayagraj_UP', 'Kanpur Nagar_UP', 'Agra_UP', 'Siddharthnagar_UP', 'Ghazipur_UP', 'Jhansi_UP', 'Hathras_UP', 'Lalitpur_UP', 'Gonda_UP', 'Maharajganj_UP', 'Chandauli_UP', 'Fatehpur_UP', 'Deoria_UP', 'Ayodhya_UP', 'Ballia_UP', 'Bhadohi_UP', 'Jalaun_UP', 'Etah_UP', 'Amethi_UP', 'Bulandshahr_UP', 'Hardoi_UP', 'Mahoba_UP', 'Barabanki_UP', 'Mathura_UP', 'Meerut_UP', 'Kaushambi_UP', 'Banda_UP', 'Hapur_UP', 'Sant Kabir Nagar_UP', 'Sitapur_UP', 'Hamirpur_UP', 'Aligarh_UP', 'Auraiya_UP', 'Basti_UP', 'Bahraich_UP', 'Bareilly_UP', 'Pratapgarh_UP', 'Budaun_UP', 'Bijnor_UP', 'Chamoli_UT', 'Nainital_UT', 'Pauri Garhwal_UT', 'Haridwar_UT', 'Bageshwar_UT', 'Pithoragarh_UT', 'Rudraprayag_UT', 'Tehri Garhwal_UT', 'Dehradun_UT', 'Uttarkashi_UT', 'Champawat_UT', 'Almora_UT', 'Udham Singh Nagar_UT', 'Puri_OR', 'Balasore_OR', 'Nuapada_OR', 'Rayagada_OR', 'Kalahandi_OR', 'Dhenkanal_OR', 'Deogarh_OR', 'Kandhamal_OR', 'Kendrapara_OR', 'Gajapati_OR', 'Bhadrak_OR', 'Jagatsinghpur_OR', 'Kendujhar_OR', 'Bargarh_OR', 'Malkangiri_OR', 'Balangir_OR', 'Ganjam_OR', 'Subarnapur_OR', 'Nayagarh_OR', 'Nabarangapur_OR', 'Sundargarh_OR', 'Khordha_OR', 'Cuttack_OR', 'Boudh_OR', 'Sambalpur_OR', 'Koraput_OR', 'Jharsuguda_OR', 'Mayurbhanj_OR', 'Angul_OR', 'Jajpur_OR', 'Karaikal_PY', 'Yanam_PY', 'Mahe_PY', 'Puducherry_PY', 'Paschim Bardhaman_WB', 'Cooch Behar_WB', 'Jalpaiguri_WB', 'Alipurduar_WB', 'Bankura_WB', 'Howrah_WB', 'Dakshin Dinajpur_WB', 'Paschim Medinipur_WB', 'Malda_WB', 'Murshidabad_WB', 'Darjeeling_WB', 'Purba Medinipur_WB', 'Uttar Dinajpur_WB', 'Birbhum_WB', 'Kolkata_WB', 'North 24 Parganas_WB', 'Jhargram_WB', 'Purba Bardhaman_WB', 'Kalimpong_WB', 'Nadia_WB', 'Hooghly_WB', 'South 24 Parganas_WB', 'Purulia_WB', 'Other State_WB', 'Chandigarh_CH', 'Gaurela Pendra Marwahi_CT', 'Kondagaon_CT', 'Balod_CT', 'Dhamtari_CT', 'Mungeli_CT', 'Kabeerdham_CT', 'Janjgir Champa_CT', 'Uttar Bastar Kanker_CT', 'Narayanpur_CT', 'Korba_CT', 'Jashpur_CT', 'Baloda Bazar_CT', 'Koriya_CT', 'Balrampur_CT', 'Surajpur_CT', 'Dakshin Bastar Dantewada_CT', 'Bastar_CT', 'Raipur_CT', 'Bijapur_CT', 'Surguja_CT', 'Bilaspur_CT', 'Durg_CT', 'Sukma_CT', 'Gariaband_CT', 'Rajnandgaon_CT', 'Mahasamund_CT', 'Raigarh_CT', 'Bametara_CT', 'Other State_CT', 'Chhota Udaipur_GJ', 'Bharuch_GJ', 'Patan_GJ', 'Anand_GJ', 'Amreli_GJ', 'Aravalli_GJ', 'Devbhumi Dwarka_GJ', 'Surendranagar_GJ', 'Surat_GJ', 'Valsad_GJ', 'Mehsana_GJ', 'Ahmedabad_GJ', 'Tapi_GJ', 'Narmada_GJ', 'Bhavnagar_GJ', 'Gandhinagar_GJ', 'Porbandar_GJ', 'Kutch_GJ', 'Morbi_GJ', 'Sabarkantha_GJ', 'Panchmahal_GJ', 'Banaskantha_GJ', 'Dahod_GJ', 'Dang_GJ', 'Junagadh_GJ', 'Navsari_GJ', 'Jamnagar_GJ', 'Vadodara_GJ', 'Mahisagar_GJ', 'Gir Somnath_GJ', 'Kheda_GJ', 'Rajkot_GJ', 'Botad_GJ', 'Other State_GJ', 'Katni_MP', 'Datia_MP', 'Barwani_MP', 'Rajgarh_MP', 'Sagar_MP', 'Rewa_MP', 'Jabalpur_MP', 'Shahdol_MP', 'Niwari_MP', 'Vidisha_MP', 'Mandsaur_MP', 'Chhatarpur_MP', 'Indore_MP', 'Raisen_MP', 'Sidhi_MP', 'Alirajpur_MP', 'Ratlam_MP', 'Hoshangabad_MP', 'Dewas_MP', 'Neemuch_MP', 'Balaghat_MP', 'Sehore_MP', 'Khandwa_MP', 'Shajapur_MP', 'Ujjain_MP', 'Sheopur_MP', 'Khargone_MP', 'Ashoknagar_MP', 'Bhind_MP', 'Jhabua_MP', 'Dindori_MP', 'Narsinghpur_MP', 'Panna_MP', 'Seoni_MP', 'Guna_MP', 'Morena_MP', 'Agar Malwa_MP', 'Anuppur_MP', 'Mandla_MP', 'Gwalior_MP', 'Tikamgarh_MP', 'Burhanpur_MP', 'Shivpuri_MP', 'Bhopal_MP', 'Harda_MP', 'Damoh_MP', 'Umaria_MP', 'Singrauli_MP', 'Chhindwara_MP', 'Betul_MP', 'Satna_MP', 'Dhar_MP', 'Darbhanga_BR', 'Aurangabad_BR', 'Gopalganj_BR', 'Bhojpur_BR', 'Araria_BR', 'Rohtas_BR', 'Patna_BR', 'Vaishali_BR', 'Jamui_BR', 'Muzaffarpur_BR', 'West Champaran_BR', 'Khagaria_BR', 'Begusarai_BR', 'Kaimur_BR', 'Sitamarhi_BR', 'Purnia_BR', 'Samastipur_BR', 'Saharsa_BR', 'Munger_BR', 'Madhepura_BR', 'Jehanabad_BR', 'Madhubani_BR', 'Sheohar_BR', 'East Champaran_BR', 'Buxar_BR', 'Kishanganj_BR', 'Gaya_BR', 'Nalanda_BR', 'Siwan_BR', 'Katihar_BR', 'Supaul_BR', 'Saran_BR', 'Bhagalpur_BR', 'Lakhisarai_BR', 'Sheikhpura_BR', 'Banka_BR', 'Arwal_BR', 'Nawada_BR', 'Manipur_MN', 'Goa_GA', 'Saitual_MZ', 'Lawngtlai_MZ', 'Mamit_MZ', 'Hnahthial_MZ', 'Kolasib_MZ', 'Champhai_MZ', 'Saiha_MZ', 'Khawzawl_MZ', 'Aizawl_MZ', 'Lunglei_MZ', 'Serchhip_MZ', 'Andaman and Nicobar Islands_AN', 'Assam_AS', 'Ramgarh_JH', 'West Singhbhum_JH', 'Garhwa_JH', 'East Singhbhum_JH', 'Pakur_JH', 'Palamu_JH', 'Koderma_JH', 'Jamtara_JH', 'Dhanbad_JH', 'Gumla_JH', 'Lohardaga_JH', 'Saraikela-Kharsawan_JH', 'Godda_JH', 'Dumka_JH', 'Ranchi_JH', 'Latehar_JH', 'Hazaribagh_JH', 'Deoghar_JH', 'Giridih_JH', 'Bokaro_JH', 'Chatra_JH', 'Khunti_JH', 'Simdega_JH', 'Sahibganj_JH', 'Kamle_AR', 'Namsai_AR', 'West Siang_AR', 'Pakke Kessang_AR', 'Lower Siang_AR', 'East Siang_AR', 'Lower Dibang Valley_AR', 'Lepa Rada_AR', 'Dibang Valley_AR', 'East Kameng_AR', 'Lower Subansiri_AR', 'Anjaw_AR', 'Tirap_AR', 'Upper Siang_AR', 'Longding_AR', 'Changlang_AR', 'Shi Yomi_AR', 'Lohit_AR', 'Papum Pare_AR', 'Kra Daadi_AR', 'Tawang_AR', 'West Kameng_AR', 'Upper Dibang Valley_AR', 'Siang_AR', 'Kurung Kumey_AR', 'Upper Subansiri_AR', 'Phek_NL', 'Mon_NL', 'Kohima_NL', 'Zunheboto_NL', 'Mokokchung_NL', 'Longleng_NL', 'Peren_NL', 'Wokha_NL', 'Tuensang_NL', 'Others_NL', 'Kiphire_NL', 'Dimapur_NL', 'Dhalai_TR', 'Unokoti_TR', 'West Tripura_TR', 'South Tripura_TR', 'North Tripura_TR', 'Gomati_TR', 'Khowai_TR', 'Sipahijala_TR', 'Diu_DN', 'Dadra and Nagar Haveli_DN', 'Daman_DN', 'North Garo Hills_ML', 'South West Garo Hills_ML', 'East Khasi Hills_ML', 'South Garo Hills_ML', 'East Jaintia Hills_ML', 'West Khasi Hills_ML', 'West Garo Hills_ML', 'South West Khasi Hills_ML', 'Ribhoi_ML', 'West Jaintia Hills_ML', 'East Garo Hills_ML', 'Sikkim_SK']\n"
     ]
    }
   ],
   "source": [
    "#preprocessing state_covid\n",
    "\n",
    "\n",
    "\n",
    "\n",
    "dist_state=list()\n",
    "\n",
    "for states in state_covid:\n",
    "    for districts in state_covid[states]:\n",
    "        if districts=='Unknown':\n",
    "            districts=state_code[states]\n",
    "        dist_state.append(districts+'_'+states)\n",
    "     \n",
    "        \n",
    "#print(c)\n",
    "print(dist_state)\n",
    "\n",
    "\n",
    "        \n",
    "\n",
    "\n"
   ]
  },
  {
   "cell_type": "code",
   "execution_count": 12,
   "metadata": {},
   "outputs": [
    {
     "name": "stdout",
     "output_type": "stream",
     "text": [
      "aurangabadaurangabad\n",
      "balrampurbalrampur\n",
      "bilaspurbilaspur\n",
      "hamirpurhamirpur\n",
      "pratapgarhpratapgarh\n"
     ]
    }
   ],
   "source": [
    "#finding states with same names in neighbors\n",
    "\n",
    "#dist_covid=list(dist_covid)\n",
    "index=0\n",
    "c=0\n",
    "#highest = process.extractOne('palghat',dist_covid)\n",
    "identical_dist=list()\n",
    "\n",
    "for districts in district:\n",
    "    d=districts.split('/')\n",
    "    district_name=d[0]\n",
    "    for j in district[c+1:]:\n",
    "        jarr=j.split('/')\n",
    "        if jarr[0]==district_name:\n",
    "            identical_dist.append(jarr[0])\n",
    "            #print(jarr[0]+district_name)\n",
    "            \n",
    "    c=c+1\n",
    "\n",
    "    \n",
    "\n",
    "        "
   ]
  },
  {
   "cell_type": "code",
   "execution_count": 37,
   "metadata": {},
   "outputs": [
    {
     "name": "stdout",
     "output_type": "stream",
     "text": [
      "('guntur/Q15341', 90)\n",
      "{'S.P.S. Nellore', 'Krishna', 'Srikakulam', 'Y.S.R. Kadapa', 'Foreign Evacuees', 'Chittoor', 'Vizianagaram', 'West Godavari', 'Kurnool', 'Prakasam', 'Visakhapatnam', 'East Godavari', 'Anantapur', 'Guntur', 'Other State'}\n",
      "dict_keys(['AP', 'DL', 'HP', 'HR', 'JK', 'KA', 'KL', 'LA', 'MH', 'PB', 'RJ', 'TG', 'TN', 'TT', 'UP', 'UT', 'OR', 'PY', 'WB', 'CH', 'CT', 'GJ', 'MP', 'BR', 'MN', 'GA', 'MZ', 'AN', 'AS', 'JH', 'AR', 'NL', 'TR', 'DN', 'ML', 'SK', 'UN'])\n"
     ]
    }
   ],
   "source": [
    "#finding closest match\n",
    "\n",
    "\n",
    "\n",
    "\n",
    "\n",
    "highest = process.extractOne('Guntur',district)\n",
    "print(highest)\n",
    "\n",
    "\n",
    "\n",
    "print(state_covid['AP'])\n",
    "print(state_covid.keys())\n",
    "\n"
   ]
  },
  {
   "cell_type": "code",
   "execution_count": 38,
   "metadata": {},
   "outputs": [
    {
     "name": "stdout",
     "output_type": "stream",
     "text": [
      "{'S.P.S. Nellore_AP': 'sri_potti_sriramulu_nellore/Q15383', 'Krishna_AP': 'krishna/Q15382', 'Srikakulam_AP': 'srikakulam/Q15395', 'Y.S.R. Kadapa_AP': 'ysr/Q15342', 'Chittoor_AP': 'chittoor/Q15213', 'Vizianagaram_AP': 'vizianagaram/Q15392', 'West Godavari_AP': 'west_godavari/Q15404', 'Kurnool_AP': 'kurnool/Q15381', 'Prakasam_AP': 'prakasam/Q15390', 'Visakhapatnam_AP': 'visakhapatnam/Q15394', 'East Godavari_AP': 'east_godavari/Q15338', 'Anantapur_AP': 'anantapur_district/Q15212', 'Guntur_AP': 'guntur/Q15341'}\n"
     ]
    }
   ],
   "source": [
    "#mapping\n",
    "\n",
    "da2nd=dict()\n",
    "\n",
    "\n",
    "\n",
    "\n",
    "\n",
    "\n",
    "\n",
    "\n",
    "\n",
    "\n",
    "\n",
    "\n",
    "\n",
    "#AP\n",
    "da2nd['S.P.S. Nellore_AP']='sri_potti_sriramulu_nellore/Q15383'\n",
    "da2nd['Krishna_AP']='krishna/Q15382'\n",
    "da2nd['Srikakulam_AP']='srikakulam/Q15395'\n",
    "da2nd['Y.S.R. Kadapa_AP']='ysr/Q15342'\n",
    "da2nd['Chittoor_AP']='chittoor/Q15213'\n",
    "da2nd['Vizianagaram_AP']='vizianagaram/Q15392'\n",
    "da2nd['West Godavari_AP']='west_godavari/Q15404'\n",
    "da2nd['Kurnool_AP']='kurnool/Q15381'\n",
    "da2nd['Prakasam_AP']='prakasam/Q15390'\n",
    "da2nd['Visakhapatnam_AP']='visakhapatnam/Q15394'\n",
    "da2nd['East Godavari_AP']='east_godavari/Q15338'\n",
    "da2nd['Anantapur_AP']='anantapur_district/Q15212'\n",
    "da2nd['Guntur_AP']='guntur/Q15341'\n",
    "\n",
    "\n",
    "\n",
    "\n",
    "\n",
    "\n",
    "\n",
    "\n",
    "print(da2nd)\n"
   ]
  },
  {
   "cell_type": "code",
   "execution_count": null,
   "metadata": {},
   "outputs": [],
   "source": [
    "#Question 2\n",
    "#overall number of cases\n",
    "\n",
    "\n",
    "\n",
    "#print(dist_covid)\n",
    "#print(dataset['2020-06-02']['UN'])\n",
    "\n",
    "overall_cases=dict()\n",
    "\n",
    "for month in range(3, 10):\n",
    "    for day in days2020[month-1]:\n",
    "        if(month<10):\n",
    "            smonth='0'+str(month)\n",
    "        else:\n",
    "            smonth=str(month)\n",
    "        if(day<10):\n",
    "            sday='0'+str(day)\n",
    "        else:\n",
    "            sday=str(day)\n",
    "        x=year+'-'+smonth+'-'+sday\n",
    "        #print(x)\n",
    "        for states in dataset[x].keys():\n",
    "            d=dataset[x][states]\n",
    "            if 'districts' in d.keys():\n",
    "                for keys in d['districts'].keys():\n",
    "                    if 'delta' in dataset[x][states]['districts'][keys].keys():\n",
    "                        if 'confirmed' in dataset[x][states]['districts'][keys]['delta'].keys():\n",
    "                                if keys+'_'+states in overall_cases.keys():\n",
    "                                    overall_cases[keys+'_'+states]=overall_cases[keys+'_'+states]+dataset[x][states]['districts'][keys]['delta']['confirmed']\n",
    "                                    #overall_cases[states][keys][1]=overall_cases[states][keys][1]+dataset[x][states]['districts'][keys]['delta']['confirmed']\n",
    "                                else:\n",
    "                                    #print(keys+ states)\n",
    "                                    overall_cases[keys+'_'+states]=dataset[x][states]['districts'][keys]['delta']['confirmed']\n",
    "                                    #overall_cases[states][keys][1]=dataset[x][states]['districts'][keys]['delta']['confirmed']\n",
    "                            \n",
    "                            \n",
    "                    \n",
    "#print(overall_cases)\n",
    "total=0\n",
    "for x in overall_cases.keys():\n",
    "    total=total+overall_cases[x]\n",
    "#print(total)\n",
    "\n",
    "#print(len(overall_cases))\n"
   ]
  },
  {
   "cell_type": "code",
   "execution_count": null,
   "metadata": {},
   "outputs": [],
   "source": [
    "#question 2\n",
    "#monthly cases\n",
    "\n",
    "\n",
    "monthly_cases=dict()\n",
    "month_id=1\n",
    "for month in range(3, 10):\n",
    "    for day in days2020[month-1]:\n",
    "        if(month<10):\n",
    "            smonth='0'+str(month)\n",
    "        else:\n",
    "            smonth=str(month)\n",
    "        if(day<10):\n",
    "            sday='0'+str(day)\n",
    "        else:\n",
    "            sday=str(day)\n",
    "        x=year+'-'+smonth+'-'+sday\n",
    "        #print(x)\n",
    "        for states in dataset[x].keys():\n",
    "            d=dataset[x][states]\n",
    "            if 'districts' in d.keys():\n",
    "                for keys in d['districts'].keys():\n",
    "                    if 'delta' in dataset[x][states]['districts'][keys].keys():\n",
    "                        if 'confirmed' in dataset[x][states]['districts'][keys]['delta'].keys():\n",
    "                                if keys+'_'+states in monthly_cases.keys():\n",
    "                                    if month_id not in monthly_cases[keys+'_'+states].keys():\n",
    "                                        monthly_cases[keys+'_'+states][month_id]=dataset[x][states]['districts'][keys]['delta']['confirmed']\n",
    "                                        \n",
    "                                    monthly_cases[keys+'_'+states][month_id]=monthly_cases[keys+'_'+states][month_id]+dataset[x][states]['districts'][keys]['delta']['confirmed']\n",
    "                                    \n",
    "                                else:\n",
    "                                    monthly_cases[keys+'_'+states]=dict()\n",
    "                                    #if month_id not in monthly_cases[keys+'_'+states].keys():\n",
    "                                    #    overall_cases[keys+'_'+states][month_id]=0\n",
    "                                   \n",
    "                                    monthly_cases[keys+'_'+states][month_id]=dataset[x][states]['districts'][keys]['delta']['confirmed']\n",
    "                                    \n",
    "                                    \n",
    "                                    \n",
    "                                    \n",
    "    month_id=month_id+1\n",
    "\n",
    "                                    \n",
    "print(monthly_cases)                                    \n",
    "                                    \n",
    "                                    \n",
    "                                    \n",
    "                                    \n",
    "                                    \n",
    "                                    \n",
    "\n"
   ]
  },
  {
   "cell_type": "code",
   "execution_count": null,
   "metadata": {},
   "outputs": [],
   "source": [
    "#question2\n",
    "#weekly cases\n",
    "\n",
    "\n",
    "weekly_cases=dict()\n",
    "week_id=1\n",
    "counter=1\n",
    "for month in range(3, 10):\n",
    "    for day in days2020[month-1]:\n",
    "        if(month<10):\n",
    "            smonth='0'+str(month)\n",
    "        else:\n",
    "            smonth=str(month)\n",
    "        if(day<10):\n",
    "            sday='0'+str(day)\n",
    "        else:\n",
    "            sday=str(day)\n",
    "        x=year+'-'+smonth+'-'+sday\n",
    "        #print(x)\n",
    "        for states in dataset[x].keys():\n",
    "            d=dataset[x][states]\n",
    "            if 'districts' in d.keys():\n",
    "                for keys in d['districts'].keys():\n",
    "                    if 'delta' in dataset[x][states]['districts'][keys].keys():\n",
    "                        if 'confirmed' in dataset[x][states]['districts'][keys]['delta'].keys():\n",
    "                                if keys+'_'+states in weekly_cases.keys():\n",
    "                                    if week_id not in weekly_cases[keys+'_'+states].keys():\n",
    "                                        #weekly_cases[keys+'_'+states][week_id]=dataset[x][states]['districts'][keys]['delta']['confirmed']\n",
    "                                        weekly_cases[keys+'_'+states][week_id]=0\n",
    "                                    weekly_cases[keys+'_'+states][week_id]=weekly_cases[keys+'_'+states][week_id]+dataset[x][states]['districts'][keys]['delta']['confirmed']\n",
    "                                    \n",
    "                                else:\n",
    "                                    weekly_cases[keys+'_'+states]=dict()\n",
    "                                    #if month_id not in monthly_cases[keys+'_'+states].keys():\n",
    "                                    #    overall_cases[keys+'_'+states][month_id]=0\n",
    "                                   \n",
    "                                    weekly_cases[keys+'_'+states][week_id]=dataset[x][states]['districts'][keys]['delta']['confirmed']\n",
    "                                    \n",
    "                                    \n",
    "                                    \n",
    "                                    \n",
    "        counter=counter+1\n",
    "        if counter>7:\n",
    "            counter=1\n",
    "            week_id=week_id+1\n",
    "\n",
    "                                    \n",
    "print(weekly_cases)                                    \n",
    "                               "
   ]
  },
  {
   "cell_type": "code",
   "execution_count": null,
   "metadata": {},
   "outputs": [],
   "source": [
    "#testing fuzzywuzzy\n",
    "\n",
    "dist_covid=list(dist_covid)\n",
    "index=0\n",
    "\n",
    "highest = process.extractOne('palghat',dist_covid)\n",
    "#print(highest)"
   ]
  },
  {
   "cell_type": "code",
   "execution_count": null,
   "metadata": {},
   "outputs": [],
   "source": [
    "#Question 3\n",
    "\n",
    "\n",
    "\n",
    "f=open('neighbor-districts.json')\n",
    "adj_list=json.load(f)\n",
    "edge_list=set()\n",
    "#print(adj_list)\n",
    "\n",
    "for district in adj_list.keys():\n",
    "    for neighbors in adj_list[district]:\n",
    "        \n",
    "        edge=[dist_map[district],dist_map[neighbors]]\n",
    "        \n",
    "        edge.sort()\n",
    "        \n",
    "        edge_list.add(tuple(edge))\n",
    "        \n",
    "        \n",
    "#print(edge_list)\n",
    "#print(len(edge_list))\n",
    "    \n",
    "\n"
   ]
  },
  {
   "cell_type": "code",
   "execution_count": null,
   "metadata": {},
   "outputs": [],
   "source": [
    "#Question 3 storing into csv file\n",
    "\n",
    "file = open('edge-graph.csv', 'w+', newline ='') \n",
    "with file:     \n",
    "    write = csv.writer(file) \n",
    "    write.writerows(edge_list) \n",
    "file.close()"
   ]
  },
  {
   "cell_type": "code",
   "execution_count": null,
   "metadata": {},
   "outputs": [],
   "source": []
  },
  {
   "cell_type": "code",
   "execution_count": null,
   "metadata": {},
   "outputs": [],
   "source": []
  },
  {
   "cell_type": "code",
   "execution_count": null,
   "metadata": {},
   "outputs": [],
   "source": []
  },
  {
   "cell_type": "code",
   "execution_count": null,
   "metadata": {},
   "outputs": [],
   "source": []
  },
  {
   "cell_type": "code",
   "execution_count": null,
   "metadata": {},
   "outputs": [],
   "source": []
  },
  {
   "cell_type": "code",
   "execution_count": null,
   "metadata": {},
   "outputs": [],
   "source": []
  }
 ],
 "metadata": {
  "kernelspec": {
   "display_name": "Python 3.7 (tensorflow)",
   "language": "python",
   "name": "tensorflow"
  },
  "language_info": {
   "codemirror_mode": {
    "name": "ipython",
    "version": 3
   },
   "file_extension": ".py",
   "mimetype": "text/x-python",
   "name": "python",
   "nbconvert_exporter": "python",
   "pygments_lexer": "ipython3",
   "version": "3.7.9"
  }
 },
 "nbformat": 4,
 "nbformat_minor": 4
}
