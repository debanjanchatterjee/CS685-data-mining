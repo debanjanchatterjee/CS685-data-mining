{
 "cells": [
  {
   "cell_type": "code",
   "execution_count": null,
   "metadata": {},
   "outputs": [],
   "source": [
    "import json\n",
    "import csv"
   ]
  },
  {
   "cell_type": "code",
   "execution_count": null,
   "metadata": {},
   "outputs": [],
   "source": [
    "#reading code_map\n",
    "f2=open('code_map.json')\n",
    "code_map=json.load(f2)\n",
    "f2.close()"
   ]
  },
  {
   "cell_type": "code",
   "execution_count": null,
   "metadata": {},
   "outputs": [],
   "source": [
    "#reading code_map\n",
    "f2=open('codged-edge-graph.json')\n",
    "cg=json.load(f2)\n",
    "f2.close()\n",
    "#print(cg)"
   ]
  },
  {
   "cell_type": "code",
   "execution_count": null,
   "metadata": {},
   "outputs": [],
   "source": [
    "cm_rev=dict()\n",
    "\n",
    "\n",
    "for x in code_map.keys():\n",
    "    cm_rev[code_map[x]]=x\n",
    "\n",
    "#print(cm_rev)\n",
    "    "
   ]
  },
  {
   "cell_type": "code",
   "execution_count": null,
   "metadata": {},
   "outputs": [],
   "source": [
    "modify=dict()\n",
    "\n",
    "\n",
    "for x in cg.keys():\n",
    "    new_x=cm_rev[int(x)]+'/'+str(x)\n",
    "    \n",
    "    modify[new_x]=list()\n",
    "    \n",
    "    for y in cg[x]:\n",
    "        new_y=cm_rev[int(y)]+'/'+str(y)\n",
    "        modify[new_x].append(new_y)\n",
    "        \n",
    "#print(modify)\n",
    "    \n",
    "\n"
   ]
  },
  {
   "cell_type": "code",
   "execution_count": null,
   "metadata": {},
   "outputs": [],
   "source": [
    "#saving the coded graph\n",
    "with open('neighbor-districts-modified.json', 'w') as fp1:\n",
    "    json.dump(modify, fp1)\n",
    "fp1.close()\n",
    "\n"
   ]
  },
  {
   "cell_type": "code",
   "execution_count": null,
   "metadata": {},
   "outputs": [],
   "source": []
  }
 ],
 "metadata": {
  "kernelspec": {
   "display_name": "Python 3.7 (tensorflow)",
   "language": "python",
   "name": "tensorflow"
  },
  "language_info": {
   "codemirror_mode": {
    "name": "ipython",
    "version": 3
   },
   "file_extension": ".py",
   "mimetype": "text/x-python",
   "name": "python",
   "nbconvert_exporter": "python",
   "pygments_lexer": "ipython3",
   "version": "3.7.9"
  }
 },
 "nbformat": 4,
 "nbformat_minor": 4
}
